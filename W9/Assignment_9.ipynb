{
 "cells": [
  {
   "cell_type": "markdown",
   "id": "0d3cd0fd",
   "metadata": {},
   "source": [
    "# 1. Weisfeiler Lehman:\n",
    "### 1.1. Initialize graphs as the following image:\n",
    "![image info](./data/graph_1.png)\n",
    "### 1.2. Compute WL to compare 2 above graphs without labels.\n",
    "### 1.3. Compute WL to compare 2 above graphs with node labels.\n",
    "### 1.4. Compute WL to compare 2 above graphs with edge labels.\n",
    "### 1.5. Compute 3-WL to compare 2 above graphs without labels."
   ]
  },
  {
   "cell_type": "markdown",
   "id": "9a1252ee",
   "metadata": {},
   "source": [
    "# 2. Other methods:\n",
    "### 2.1. Create graphs as the following image:\n",
    "![image info](./data/graph_2.png)\n",
    "### 2.2. Using shortest path kernel to compare 2 above graphs.\n",
    "### 2.3. Using pyramid match graph kernel to compare 2 above graphs.\n",
    "### 2.4. Using VF2 to compare 2 above graphs.\n",
    "### 2.5. Using VF2++ to compare 2 above graphs."
   ]
  }
 ],
 "metadata": {
  "kernelspec": {
   "display_name": "Python 3 (ipykernel)",
   "language": "python",
   "name": "python3"
  },
  "language_info": {
   "codemirror_mode": {
    "name": "ipython",
    "version": 3
   },
   "file_extension": ".py",
   "mimetype": "text/x-python",
   "name": "python",
   "nbconvert_exporter": "python",
   "pygments_lexer": "ipython3",
   "version": "3.8.16"
  }
 },
 "nbformat": 4,
 "nbformat_minor": 5
}
