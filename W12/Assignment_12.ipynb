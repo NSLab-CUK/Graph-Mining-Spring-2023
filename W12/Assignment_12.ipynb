{
 "cells": [
  {
   "cell_type": "markdown",
   "id": "15740f39",
   "metadata": {},
   "source": [
    "#### 1. Given a undirected graph \n",
    "\n",
    "A graph has a edge list as (0, 1), (1, 2), (2, 3), (1, 3),(1,8), (2,8),(0,8), (0, 7), (0, 6), (4, 0), (4, 5), (5, 6), (5, 7).\n",
    "\n",
    "1. Caculate the The modularity of a graph with partition = [{1, 2, 3, 8},{4, 5, 6, 7,0}] ?\n",
    "\n",
    "2. Find maximum clique in the graph. ?\n"
   ]
  },
  {
   "cell_type": "markdown",
   "id": "50630fe7",
   "metadata": {},
   "source": [
    "#### 2. Load friend network from edge-list file \" data/Karate_edgelist\" \n",
    "\n",
    "Question: Compute measurements for a pair of node (0, 1): \n",
    "\n",
    "Common neighbors, Jaccard’s coefficient, Adamic-Adar, Preferential attachment (PA), and SimRank \n"
   ]
  }
 ],
 "metadata": {
  "kernelspec": {
   "display_name": "Python 3 (ipykernel)",
   "language": "python",
   "name": "python3"
  },
  "language_info": {
   "codemirror_mode": {
    "name": "ipython",
    "version": 3
   },
   "file_extension": ".py",
   "mimetype": "text/x-python",
   "name": "python",
   "nbconvert_exporter": "python",
   "pygments_lexer": "ipython3",
   "version": "3.8.16"
  }
 },
 "nbformat": 4,
 "nbformat_minor": 5
}
