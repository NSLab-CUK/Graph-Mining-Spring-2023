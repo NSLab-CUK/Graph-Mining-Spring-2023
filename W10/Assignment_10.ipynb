{
 "cells": [
  {
   "cell_type": "markdown",
   "id": "78baf947",
   "metadata": {},
   "source": [
    "### Assignment 1. Create graph using edgelist from edge_list.txt file in data folder. \n",
    "\n",
    "a) Extract features from 1 recursive generations by using Rolx algorithm\n",
    "\n",
    "b) Run the Rolx algorithm and plot the graph that same nodes have same colour based on Rolx algorithm."
   ]
  },
  {
   "cell_type": "markdown",
   "id": "8dbf7305",
   "metadata": {},
   "source": [
    "### Assignment 2. A undirected graph G with edge pairs as:\n",
    "[(0, 1),(0, 2),(0, 3),(0, 5),(1, 3),(1, 6),(3, 4),(4, 5),(4, 7),(5, 8),(8, 9)].\n",
    "\n",
    "a) Draw graph G. \n",
    "\n",
    "b) There are four nodes with the label 'A': 0,1,2,3. There are three nodes with the label 'B': 4,5,6.\n",
    "By using Learning with Local and Global Consistency, finding the labels of nodes 7 and 8.\n",
    "    \n"
   ]
  }
 ],
 "metadata": {
  "kernelspec": {
   "display_name": "Python 3 (ipykernel)",
   "language": "python",
   "name": "python3"
  },
  "language_info": {
   "codemirror_mode": {
    "name": "ipython",
    "version": 3
   },
   "file_extension": ".py",
   "mimetype": "text/x-python",
   "name": "python",
   "nbconvert_exporter": "python",
   "pygments_lexer": "ipython3",
   "version": "3.8.16"
  }
 },
 "nbformat": 4,
 "nbformat_minor": 5
}
