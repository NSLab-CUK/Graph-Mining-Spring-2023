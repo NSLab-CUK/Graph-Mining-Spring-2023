{
 "cells": [
  {
   "cell_type": "markdown",
   "id": "15740f39",
   "metadata": {},
   "source": [
    "## 1. Given a undirected graph \n",
    "\n",
    "A graph has 8 nodes: {0,1,2,3,4,5,6,7} and the edge list: (0, 1), (1, 2), (2, 3), (0, 7), (0, 6), (4, 7), (4, 5), (5, 6), (5, 7).\n",
    "\n",
    "Question 1. Caculate the The modularity of a graph with three partition: [{1, 2, 3},{4, 5, 6},{0, 7}]\n",
    "\n",
    "Question 2. Find maximum clique in the graph.\n"
   ]
  },
  {
   "cell_type": "markdown",
   "id": "ad7ab71e",
   "metadata": {},
   "source": [
    "## 2. Read edge list file named: karate_edgelist.txt\n",
    "\n",
    "Question 1. Compute communities using Louvain algorithm\n",
    "\n",
    "Question 2. Visualize the communities\n",
    "\n",
    "Question 3. Visualize the subgraphs for the communities. "
   ]
  }
 ],
 "metadata": {
  "kernelspec": {
   "display_name": "Python 3 (ipykernel)",
   "language": "python",
   "name": "python3"
  },
  "language_info": {
   "codemirror_mode": {
    "name": "ipython",
    "version": 3
   },
   "file_extension": ".py",
   "mimetype": "text/x-python",
   "name": "python",
   "nbconvert_exporter": "python",
   "pygments_lexer": "ipython3",
   "version": "3.8.16"
  }
 },
 "nbformat": 4,
 "nbformat_minor": 5
}
