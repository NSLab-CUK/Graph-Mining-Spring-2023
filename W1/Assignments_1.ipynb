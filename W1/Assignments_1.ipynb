{
 "cells": [
  {
   "cell_type": "markdown",
   "id": "c6ba205c",
   "metadata": {},
   "source": [
    "# Assignment 1: \n",
    "Given a undirected graph with edges = [(1, 2), (1, 6), (2, 3), (2, 4), (2, 6), \n",
    "         (3, 4), (3, 5), (4, 8), (4, 9), (6, 7)]\n",
    "  \n",
    "1. Draw the graph\n",
    "2. Print the total number of nodes\n",
    "3. Print the Total number of edges\n",
    "4. List of all nodes, edges\n",
    "5. Find degree of a node"
   ]
  },
  {
   "cell_type": "markdown",
   "id": "4bd8e9a3",
   "metadata": {},
   "source": [
    "# Assignment 2: Using NetworkX, read file /data/practice.txt \n",
    "\n",
    "In the file: \\data\\practice.txt, the format of each row is: node - node - edge type.\n",
    "\n",
    "Question:\n",
    "1. Draw the graph.\n",
    "\n",
    "2. Print:\n",
    "    - The total number of nodes, edges, \n",
    "    - List of all nodes, edges\n",
    "\n",
    "2. Print all the neighbours of node E.\n",
    "\n",
    "3. Print all the neighbours of node E who are its friends."
   ]
  }
 ],
 "metadata": {
  "kernelspec": {
   "display_name": "Python 3 (ipykernel)",
   "language": "python",
   "name": "python3"
  },
  "language_info": {
   "codemirror_mode": {
    "name": "ipython",
    "version": 3
   },
   "file_extension": ".py",
   "mimetype": "text/x-python",
   "name": "python",
   "nbconvert_exporter": "python",
   "pygments_lexer": "ipython3",
   "version": "3.8.16"
  }
 },
 "nbformat": 4,
 "nbformat_minor": 5
}
