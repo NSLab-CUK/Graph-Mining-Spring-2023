{
 "cells": [
  {
   "cell_type": "markdown",
   "id": "c6ba205c",
   "metadata": {},
   "source": [
    "# Ex 1: \n",
    "Given a undirected graph with edges = [(1, 2), (1, 6), (2, 3), (2, 4), (2, 6), \n",
    "         (3, 4), (3, 5), (4, 8), (4, 9), (6, 7)]\n",
    "  \n",
    "1. Draw the graph\n",
    "2. Print the total number of nodes\n",
    "3. Print the Total number of edges\n",
    "4. List of all edges"
   ]
  },
  {
   "cell_type": "markdown",
   "id": "4bd8e9a3",
   "metadata": {},
   "source": [
    "# Ex 2: Using NetworkX, read file practice.txt \n",
    "\n",
    "1. Draw the graph.\n",
    "\n",
    "2. Print all the neighbours of node E.\n",
    "\n",
    "3. Print all the neighbours of node E who are its friends."
   ]
  },
  {
   "cell_type": "code",
   "execution_count": 11,
   "id": "d5ea7914",
   "metadata": {},
   "outputs": [
    {
     "data": {
      "image/png": "[encoded data removed]",
      "text/plain": [
       "<Figure size 432x288 with 1 Axes>"
      ]
     },
     "metadata": {},
     "output_type": "display_data"
    }
   ],
   "source": [
    "import networkx as nx\n",
    "import networkx\n",
    "import numpy as np\n",
    "import matplotlib.pyplot as plt\n",
    "\n",
    "\n",
    "G=nx.MultiGraph()\n",
    "G = nx.read_edgelist('practice1.txt', data =[('relation', str)])\n",
    "\n",
    "nx.draw_networkx(G, with_labels=True)"
   ]
  },
  {
   "cell_type": "code",
   "execution_count": 12,
   "id": "f85d6cd4",
   "metadata": {},
   "outputs": [
    {
     "name": "stdout",
     "output_type": "stream",
     "text": [
      "List of all nodes we can go to in a single step from node E:  ['C', 'D', 'I', 'J', 'H']\n",
      "C\n",
      "J\n"
     ]
    }
   ],
   "source": [
    "#print(\"Total number of nodes: \", int(G.number_of_nodes()))\n",
    "#print(\"Total number of edges: \", int(G.number_of_edges()))\n",
    "#print(\"List of all nodes: \", list(G.nodes()))\n",
    "#print(\"List of all edges: \", list(G.edges(data = True)))\n",
    "print(\"List of all nodes we can go to in a single step from node E: \", list(G.neighbors('E')))\n",
    "for i in list(G.neighbors('E')):\n",
    "    if(G[i]['E'][\"relation\"]=='friend'):\n",
    "        print(i)"
   ]
  },
  {
   "cell_type": "code",
   "execution_count": null,
   "id": "5d5c3888",
   "metadata": {},
   "outputs": [],
   "source": []
  },
  {
   "cell_type": "code",
   "execution_count": null,
   "id": "d83346df",
   "metadata": {},
   "outputs": [],
   "source": []
  }
 ],
 "metadata": {
  "kernelspec": {
   "display_name": "Python 3 (ipykernel)",
   "language": "python",
   "name": "python3"
  },
  "language_info": {
   "codemirror_mode": {
    "name": "ipython",
    "version": 3
   },
   "file_extension": ".py",
   "mimetype": "text/x-python",
   "name": "python",
   "nbconvert_exporter": "python",
   "pygments_lexer": "ipython3",
   "version": "3.9.12"
  }
 },
 "nbformat": 4,
 "nbformat_minor": 5
}
