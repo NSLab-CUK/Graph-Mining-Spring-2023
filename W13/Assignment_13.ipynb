{
 "cells": [
  {
   "cell_type": "markdown",
   "id": "0d3cd0fd",
   "metadata": {},
   "source": [
    "# 1. Kernel methods:\n",
    "### 1.1. Initialize 3 graphs as follow:\n",
    "+ G1: a complete graph with 10 nodes\n",
    "+ G2: a balanced binary tree: 10 nodes\n",
    "+ G3: a path graph with 8 nodes\n",
    "+ Set labels corresponding to words (a->z with nodes from 0->9)\n",
    "### 1.2. Compute kernel methods to measure the similarity between pairs of graph:\n",
    "+ Shortest path for G1, G2, and G3\n",
    "+ Random walk for G2 and G3\n",
    "+ WL with iteration=3 for G1, G2, and G3\n",
    "### 1.3. Transform G1 to G2."
   ]
  },
  {
   "cell_type": "markdown",
   "id": "9a1252ee",
   "metadata": {},
   "source": [
    "# 2. Node classification:\n",
    "### 2.1. Create graphs as the following image:\n",
    "+ G1: a balanced tree containing 20 nodes: each node has 4 children.\n",
    "+ G2: a balanced binary tree containing 30 nodes.\n",
    "### 2.2. In G1, let compute label propagation and assign label attributes (value is the color code) for all nodes based on the results.\n",
    "+ Color code list: [\"#00C98D\", \"#e55039\", \"#5030C0\", \"#50F0F0\", \"#0c2461\", \"#f8c291\", \"#78e08f\"]\n",
    "### 2.3. Unlabel nodes with index: 3, 8, 10 in G1.\n",
    "### 2.4. Use simrank method to assign new labels for un-labelled nodes of G1.\n",
    "### 2.5. Compute Rolx method on G2."
   ]
  }
 ],
 "metadata": {
  "kernelspec": {
   "display_name": "Python 3 (ipykernel)",
   "language": "python",
   "name": "python3"
  },
  "language_info": {
   "codemirror_mode": {
    "name": "ipython",
    "version": 3
   },
   "file_extension": ".py",
   "mimetype": "text/x-python",
   "name": "python",
   "nbconvert_exporter": "python",
   "pygments_lexer": "ipython3",
   "version": "3.8.16"
  }
 },
 "nbformat": 4,
 "nbformat_minor": 5
}
