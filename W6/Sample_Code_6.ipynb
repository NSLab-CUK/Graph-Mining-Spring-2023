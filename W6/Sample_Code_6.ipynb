{
 "cells": [
  {
   "cell_type": "markdown",
   "id": "0d3cd0fd",
   "metadata": {},
   "source": [
    "## Install the necessary python libraries"
   ]
  },
  {
   "cell_type": "code",
   "execution_count": 2,
   "id": "e0d8080f",
   "metadata": {},
   "outputs": [
    {
     "name": "stdout",
     "output_type": "stream",
     "text": [
      "Requirement already satisfied: networkx in c:\\users\\admin\\anaconda3\\envs\\class\\lib\\site-packages (3.1)\n",
      "Requirement already satisfied: pandas in c:\\users\\admin\\anaconda3\\envs\\class\\lib\\site-packages (2.0.0)\n",
      "Requirement already satisfied: numpy in c:\\users\\admin\\anaconda3\\envs\\class\\lib\\site-packages (1.24.2)\n",
      "Requirement already satisfied: matplotlib in c:\\users\\admin\\anaconda3\\envs\\class\\lib\\site-packages (3.7.1)\n",
      "Requirement already satisfied: tzdata>=2022.1 in c:\\users\\admin\\anaconda3\\envs\\class\\lib\\site-packages (from pandas) (2023.3)\n",
      "Requirement already satisfied: python-dateutil>=2.8.2 in c:\\users\\admin\\anaconda3\\envs\\class\\lib\\site-packages (from pandas) (2.8.2)\n",
      "Requirement already satisfied: pytz>=2020.1 in c:\\users\\admin\\anaconda3\\envs\\class\\lib\\site-packages (from pandas) (2023.3)\n",
      "Requirement already satisfied: kiwisolver>=1.0.1 in c:\\users\\admin\\anaconda3\\envs\\class\\lib\\site-packages (from matplotlib) (1.4.4)\n",
      "Requirement already satisfied: contourpy>=1.0.1 in c:\\users\\admin\\anaconda3\\envs\\class\\lib\\site-packages (from matplotlib) (1.0.7)\n",
      "Requirement already satisfied: importlib-resources>=3.2.0 in c:\\users\\admin\\anaconda3\\envs\\class\\lib\\site-packages (from matplotlib) (5.12.0)\n",
      "Requirement already satisfied: fonttools>=4.22.0 in c:\\users\\admin\\anaconda3\\envs\\class\\lib\\site-packages (from matplotlib) (4.39.3)\n",
      "Requirement already satisfied: packaging>=20.0 in c:\\users\\admin\\anaconda3\\envs\\class\\lib\\site-packages (from matplotlib) (23.0)\n",
      "Requirement already satisfied: cycler>=0.10 in c:\\users\\admin\\anaconda3\\envs\\class\\lib\\site-packages (from matplotlib) (0.11.0)\n",
      "Requirement already satisfied: pyparsing>=2.3.1 in c:\\users\\admin\\anaconda3\\envs\\class\\lib\\site-packages (from matplotlib) (3.0.9)\n",
      "Requirement already satisfied: pillow>=6.2.0 in c:\\users\\admin\\anaconda3\\envs\\class\\lib\\site-packages (from matplotlib) (9.5.0)\n",
      "Requirement already satisfied: zipp>=3.1.0 in c:\\users\\admin\\anaconda3\\envs\\class\\lib\\site-packages (from importlib-resources>=3.2.0->matplotlib) (3.15.0)\n",
      "Requirement already satisfied: six>=1.5 in c:\\users\\admin\\anaconda3\\envs\\class\\lib\\site-packages (from python-dateutil>=2.8.2->pandas) (1.16.0)\n"
     ]
    }
   ],
   "source": [
    "!pip install networkx pandas numpy matplotlib\n",
    "\n",
    "import networkx as nx\n",
    "import numpy as np\n",
    "import pandas as pd"
   ]
  },
  {
   "cell_type": "markdown",
   "id": "b0b7d423",
   "metadata": {},
   "source": [
    "# Graph distance"
   ]
  },
  {
   "cell_type": "code",
   "execution_count": 3,
   "id": "fe39a589",
   "metadata": {},
   "outputs": [
    {
     "name": "stdout",
     "output_type": "stream",
     "text": [
      "Graph distance:\n",
      "(A, C) | -2\n",
      "(C, D) | -2\n",
      "(A, E) | -3\n"
     ]
    }
   ],
   "source": [
    "# Calculate graph distance\n",
    "def calculate_graph_distance(G, source, target):\n",
    "    return -nx.shortest_path_length(G, source=source, target=target)\n",
    "\n",
    "# Instantiate the graph\n",
    "G = nx.Graph()\n",
    "\n",
    "edges = [(\"A\", \"B\"), (\"B\", \"C\"), (\"B\", \"D\"), (\"D\", \"E\")]\n",
    "# add node/edge pairs\n",
    "G.add_edges_from(edges)\n",
    "\n",
    "print(f\"Graph distance:\")\n",
    "print(f\"(A, C) | {calculate_graph_distance(G, 'A', 'C')}\")\n",
    "print(f\"(C, D) | {calculate_graph_distance(G, 'C', 'D')}\")\n",
    "print(f\"(A, E) | {calculate_graph_distance(G, 'A', 'E')}\")"
   ]
  },
  {
   "cell_type": "markdown",
   "id": "127ccd41",
   "metadata": {},
   "source": [
    "# Common neighbors"
   ]
  },
  {
   "cell_type": "code",
   "execution_count": 30,
   "id": "b151162d",
   "metadata": {},
   "outputs": [
    {
     "name": "stdout",
     "output_type": "stream",
     "text": [
      "[1, 8, 10]\n"
     ]
    }
   ],
   "source": [
    "G = nx.Graph()\n",
    "edges = [(0, 1), (1, 2), (0, 3), (1, 3), (0, 4), (1, 5), (4, 5), (1, 6), \n",
    "         (2, 6), (5, 6), (6, 7), (3, 8), (4, 8), (6, 8), (3, 9), (4, 9), \n",
    "         (1, 9), (8, 9), (2, 10), (6, 10), (7, 10), (9, 10)]\n",
    "G.add_edges_from(edges)\n",
    "\n",
    "cn_list = sorted(nx.common_neighbors(G, 6, 9))\n",
    "\n",
    "print(cn_list)"
   ]
  },
  {
   "cell_type": "markdown",
   "id": "83ab3cc6",
   "metadata": {},
   "source": [
    "# Jaccard’s coefficient of node pairs"
   ]
  },
  {
   "cell_type": "code",
   "execution_count": 21,
   "id": "730bf3c4",
   "metadata": {},
   "outputs": [
    {
     "name": "stdout",
     "output_type": "stream",
     "text": [
      "(6, 9) -> 0.37500000\n",
      "(1, 3) -> 0.25000000\n",
      "(3, 9) -> 0.28571429\n"
     ]
    }
   ],
   "source": [
    "# Calculate Jaccard’s coefficient of node pairs in a list of nodes\n",
    "node_list = [(6, 9), (1, 3), (3, 9)]\n",
    "preds = nx.jaccard_coefficient(G, node_list)\n",
    "for u, v, p in preds:\n",
    "    print(f\"({u}, {v}) -> {p:.8f}\")"
   ]
  },
  {
   "cell_type": "markdown",
   "id": "4127ab98",
   "metadata": {},
   "source": [
    "#  Adamic-Adar of node pairs"
   ]
  },
  {
   "cell_type": "code",
   "execution_count": 23,
   "id": "14c4e560",
   "metadata": {},
   "outputs": [
    {
     "name": "stdout",
     "output_type": "stream",
     "text": [
      "(6, 9) -> 2.00080567\n",
      "(1, 3) -> 1.53157416\n",
      "(3, 9) -> 1.27945815\n"
     ]
    }
   ],
   "source": [
    "# Calculate Adamic-Adar of node pairs in a list of nodes\n",
    "node_list = [(6, 9), (1, 3), (3, 9)]\n",
    "preds = nx.adamic_adar_index(G, node_list)\n",
    "for u, v, p in preds:\n",
    "    print(f\"({u}, {v}) -> {p:.8f}\")"
   ]
  },
  {
   "cell_type": "markdown",
   "id": "01857890",
   "metadata": {},
   "source": [
    "# Preferential attachment (PA) of node pairs"
   ]
  },
  {
   "cell_type": "code",
   "execution_count": 24,
   "id": "57ba84e7",
   "metadata": {},
   "outputs": [
    {
     "name": "stdout",
     "output_type": "stream",
     "text": [
      "(6, 9) -> 30.00000000\n",
      "(1, 3) -> 24.00000000\n",
      "(3, 9) -> 20.00000000\n"
     ]
    }
   ],
   "source": [
    "# Calculate Preferential attachment (PA) of node pairs in a list of nodes\n",
    "node_list = [(6, 9), (1, 3), (3, 9)]\n",
    "preds = nx.preferential_attachment(G, node_list)\n",
    "for u, v, p in preds:\n",
    "    print(f\"({u}, {v}) -> {p:.8f}\")"
   ]
  },
  {
   "cell_type": "markdown",
   "id": "7774a281",
   "metadata": {},
   "source": [
    "# SimRank similarity"
   ]
  },
  {
   "cell_type": "code",
   "execution_count": 31,
   "id": "e7c0bbb0",
   "metadata": {},
   "outputs": [
    {
     "data": {
      "text/plain": [
       "0.4283123305678891"
      ]
     },
     "execution_count": 31,
     "metadata": {},
     "output_type": "execute_result"
    }
   ],
   "source": [
    "# Calculate SimRank similarity between 2 nodes\n",
    "source = 6\n",
    "target = 9\n",
    "nx.simrank_similarity(G, source, target)\n"
   ]
  },
  {
   "cell_type": "markdown",
   "id": "8788f810",
   "metadata": {},
   "source": [
    "# Neo4j\n",
    "## Create Database"
   ]
  },
  {
   "cell_type": "code",
   "execution_count": null,
   "id": "afae98e1",
   "metadata": {},
   "outputs": [],
   "source": [
    "CREATE (zhen:Person {name: 'Zhen'}), (praveena:Person {name: 'Praveena'}), (michael:Person {name: 'Michael'}), (arya:Person {name: 'Arya'}), (karin:Person {name: 'Karin'}), (zhen)-[:FRIENDS]->(arya), (zhen)-[:FRIENDS]->(praveena), (praveena)-[:WORKS_WITH]->(karin), (praveena)-[:FRIENDS]->(michael), (michael)-[:WORKS_WITH]->(karin), (arya)-[:FRIENDS]->(karin)\n"
   ]
  },
  {
   "cell_type": "markdown",
   "id": "52e9d929",
   "metadata": {},
   "source": [
    "## Compute Graph algorithms"
   ]
  },
  {
   "cell_type": "code",
   "execution_count": null,
   "id": "d765b3ba",
   "metadata": {},
   "outputs": [],
   "source": [
    "MATCH (p1:Person {name: 'Michael'}) MATCH (p2:Person {name: 'Karin'}) RETURN gds.alpha.linkprediction.commonNeighbors(p1, p2) AS score\n"
   ]
  },
  {
   "cell_type": "code",
   "execution_count": null,
   "id": "509900ee",
   "metadata": {},
   "outputs": [],
   "source": [
    "MATCH (p1:Person {name: 'Michael'}) MATCH (p2:Person {name: 'Karin'}) RETURN gds.alpha.linkprediction.commonNeighbors(p1, p2, {relationshipQuery: \"FRIENDS\"}) AS score\n"
   ]
  },
  {
   "cell_type": "code",
   "execution_count": null,
   "id": "60de05c3",
   "metadata": {},
   "outputs": [],
   "source": [
    "MATCH (p1:Person {name: 'Michael'}) MATCH (p2:Person {name: 'Karin'}) RETURN gds.alpha.linkprediction.adamicAdar(p1, p2) AS score\n"
   ]
  },
  {
   "cell_type": "code",
   "execution_count": null,
   "id": "4511ed4b",
   "metadata": {},
   "outputs": [],
   "source": [
    "MATCH (p1:Person {name: 'Michael'}) MATCH (p2:Person {name: 'Karin'}) RETURN gds.alpha.linkprediction.adamicAdar(p1, p2, {relationshipQuery: 'FRIENDS'}) AS score\n"
   ]
  }
 ],
 "metadata": {
  "kernelspec": {
   "display_name": "Python 3 (ipykernel)",
   "language": "python",
   "name": "python3"
  },
  "language_info": {
   "codemirror_mode": {
    "name": "ipython",
    "version": 3
   },
   "file_extension": ".py",
   "mimetype": "text/x-python",
   "name": "python",
   "nbconvert_exporter": "python",
   "pygments_lexer": "ipython3",
   "version": "3.8.16"
  }
 },
 "nbformat": 4,
 "nbformat_minor": 5
}
