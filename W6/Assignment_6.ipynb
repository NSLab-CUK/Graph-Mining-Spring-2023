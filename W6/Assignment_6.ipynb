{
 "cells": [
  {
   "cell_type": "markdown",
   "id": "be88883b",
   "metadata": {},
   "source": [
    "# 1. Normal graph prediction:\n",
    "### 1.1. Load friend network from edge-list file [data/friend_network.txt](https://github.com/NSLab-CUK/Graph-Mining-Spring-2023/blob/main/W6/data/friend_network.txt)\n",
    "### 1.2. Complete the following requirements:\n",
    "##### Compute the following coefficient score:\n",
    "+ Jaccard’s coefficient\n",
    "+ Adamic-Adar\n",
    "+ Preferential attachment (PA)\n",
    "+ Salton index\n",
    "+ Sorensen index\n",
    "+ Hub Promoted index\n",
    "+ Hub Depressed Index\n",
    "+ SimRank similarity\n",
    "##### List of friends: [(\"Ana\", \"Tino\"), (\"Mark\", \"Tim\")]"
   ]
  },
  {
   "cell_type": "markdown",
   "id": "5213e8c3",
   "metadata": {},
   "source": [
    "# 2. Assignment on large-scale network:\n",
    "+ Load SC-TS graph from the file: [data/SC-TS.txt](https://github.com/NSLab-CUK/Graph-Mining-Spring-2023/blob/main/W6/data/SC-TS.txt) in the class github.\n",
    "+ Read pair of nodes in the file: [data/node_pairs.txt](https://github.com/NSLab-CUK/Graph-Mining-Spring-2023/blob/main/W6/data/node_pairs.txt)\n",
    "+ Calculate common neighbors (CN), Jaccard (JC), Adamic-Adar (AA), Preferential attachment (PA) and SimRank similarity of these above pair of nodes.\n",
    "+ Draw graph and the link among above node pairs.\n",
    "\n",
    "#### Notes: in the node pairs file, 2 columns correspond to 2 nodes in a pair, and the number of rows is the number of pairs."
   ]
  }
 ],
 "metadata": {
  "kernelspec": {
   "display_name": "Python 3 (ipykernel)",
   "language": "python",
   "name": "python3"
  },
  "language_info": {
   "codemirror_mode": {
    "name": "ipython",
    "version": 3
   },
   "file_extension": ".py",
   "mimetype": "text/x-python",
   "name": "python",
   "nbconvert_exporter": "python",
   "pygments_lexer": "ipython3",
   "version": "3.8.16"
  }
 },
 "nbformat": 4,
 "nbformat_minor": 5
}
