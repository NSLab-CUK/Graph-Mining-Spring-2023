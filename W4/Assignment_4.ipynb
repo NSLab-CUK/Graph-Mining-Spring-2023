{
 "cells": [
  {
   "cell_type": "markdown",
   "id": "09156db2",
   "metadata": {},
   "source": [
    "# 1. Create a friend network which satisfies the following requirements:\n",
    "+ This is a weighted graph.\n",
    "+ Each friend is a node.\n",
    "+ The edge between two nodes is the distance between their homes.\n",
    "+ Your friends can be connected.\n",
    "+ The graph contains at least 20 people.\n",
    "+ Visualize your graph using spring and circular layouts.\n",
    "\n",
    "** Following the sample graph in practice, you can create a sample friend network (do not need to be a real network).\n"
   ]
  },
  {
   "cell_type": "markdown",
   "id": "5213e8c3",
   "metadata": {},
   "source": [
    "# 2. Draw Betweenness Centrality in graph:\n",
    "+ Load CE_KT graph from the file: [data/CE-HT.txt](https://github.com/NSLab-CUK/Graph-Mining-Spring-2023/blob/main/W4/data/CE-HT.txt) in the class github.\n",
    "+ Draw betweenness centrality in graph with 2 type of layouts: Spring layout and Circular layout.\n",
    "+ Save the figures of each layouts."
   ]
  },
  {
   "cell_type": "markdown",
   "id": "be88883b",
   "metadata": {},
   "source": [
    "# 3. Complete the following requirements:\n",
    "### 3.1. Load graph from edge-list file [data/WormNet.v3.benchmark.txt](https://github.com/NSLab-CUK/Graph-Mining-Spring-2023/blob/main/W4/data/WormNet.v3.benchmark.txt)\n",
    "### 3.2. Then, you store this graph in a gexf file.\n",
    "### 3.3. Finally, you load this file in Gephi and compute Centrality methods to visualize your graph and save figures for them. Visualizing your graph in circular and spring layouts combining with these methods:\n",
    "+ Betweenness Centrality\n",
    "+ Degree\n",
    "+ Eigen Centrality"
   ]
  }
 ],
 "metadata": {
  "kernelspec": {
   "display_name": "Python 3 (ipykernel)",
   "language": "python",
   "name": "python3"
  },
  "language_info": {
   "codemirror_mode": {
    "name": "ipython",
    "version": 3
   },
   "file_extension": ".py",
   "mimetype": "text/x-python",
   "name": "python",
   "nbconvert_exporter": "python",
   "pygments_lexer": "ipython3",
   "version": "3.8.16"
  }
 },
 "nbformat": 4,
 "nbformat_minor": 5
}
