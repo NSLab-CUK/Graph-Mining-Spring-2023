{
 "cells": [
  {
   "cell_type": "markdown",
   "id": "5213e8c3",
   "metadata": {},
   "source": [
    "# 1. Analyze Centrality Measurement:\n",
    "### 1.1. Load social network from the file: [data/edgelist.txt](https://github.com/NSLab-CUK/Graph-Mining-Spring-2023/blob/main/W11/data/edgelist.txt) in the class github.\n",
    "### 1.2. Compute centrality measurement metrics on this network\n",
    "+ Degree Centrality\n",
    "+ Eigenvector Centrality\n",
    "+ Closeness centrality\n",
    "+ Betweenness centrality\n",
    "+ Katz Centrality\n",
    "### 1.3. Draw betweenness centrality of this network in 2 type of layouts: Spring layout and Circular layout.\n",
    "### 1.4. Save the figures of each layouts."
   ]
  },
  {
   "cell_type": "markdown",
   "id": "be88883b",
   "metadata": {},
   "source": [
    "# 2. Complete the following requirements:\n",
    "### 2.1. Load network from edge-list file [data/facebook_combined.txt](https://github.com/NSLab-CUK/Graph-Mining-Spring-2023/blob/main/W11/data/facebook_combined.txt)\n",
    "### 2.2. Then, you draw this network with several types of layouts:\n",
    "+ Spring\n",
    "+ Circular\n",
    "+ Random layout\n",
    "+ Planar layout\n",
    "+ Spectral layout\n",
    "+ Shell layout\n",
    "### 2.3. Finally, you visualize this network in circular and spring layouts combining with centrality measurements:\n",
    "+ Betweenness Centrality\n",
    "+ Degree\n",
    "+ Eigen Centrality\n",
    "+ Katz Centrality\n",
    "+ Closeness Centrality"
   ]
  }
 ],
 "metadata": {
  "kernelspec": {
   "display_name": "Python 3 (ipykernel)",
   "language": "python",
   "name": "python3"
  },
  "language_info": {
   "codemirror_mode": {
    "name": "ipython",
    "version": 3
   },
   "file_extension": ".py",
   "mimetype": "text/x-python",
   "name": "python",
   "nbconvert_exporter": "python",
   "pygments_lexer": "ipython3",
   "version": "3.8.16"
  }
 },
 "nbformat": 4,
 "nbformat_minor": 5
}
