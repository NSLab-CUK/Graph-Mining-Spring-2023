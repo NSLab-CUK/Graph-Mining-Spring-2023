{
 "cells": [
  {
   "cell_type": "markdown",
   "id": "a5c0f83b",
   "metadata": {},
   "source": [
    "# Sample code of adjacency matrix and adjacency list in graph with networkx\n",
    "## Install the necessary python libraries"
   ]
  },
  {
   "cell_type": "code",
   "execution_count": 15,
   "id": "d510fe91",
   "metadata": {},
   "outputs": [
    {
     "name": "stdout",
     "output_type": "stream",
     "text": [
      "Requirement already satisfied: networkx in c:\\users\\user\\anaconda3\\envs\\python7\\lib\\site-packages (2.6.3)\n",
      "Requirement already satisfied: pandas in c:\\users\\user\\anaconda3\\envs\\python7\\lib\\site-packages (1.3.5)\n",
      "Requirement already satisfied: numpy in c:\\users\\user\\anaconda3\\envs\\python7\\lib\\site-packages (1.21.6)\n",
      "Requirement already satisfied: pytz>=2017.3 in c:\\users\\user\\anaconda3\\envs\\python7\\lib\\site-packages (from pandas) (2022.7.1)\n",
      "Requirement already satisfied: python-dateutil>=2.7.3 in c:\\users\\user\\anaconda3\\envs\\python7\\lib\\site-packages (from pandas) (2.8.2)\n",
      "Requirement already satisfied: six>=1.5 in c:\\users\\user\\anaconda3\\envs\\python7\\lib\\site-packages (from python-dateutil>=2.7.3->pandas) (1.16.0)\n"
     ]
    }
   ],
   "source": [
    "!pip install networkx pandas numpy"
   ]
  },
  {
   "cell_type": "markdown",
   "id": "bb76faad",
   "metadata": {},
   "source": [
    "## Generate adjacency dense matrix of directed graph"
   ]
  },
  {
   "cell_type": "code",
   "execution_count": 10,
   "id": "348614ba",
   "metadata": {},
   "outputs": [
    {
     "name": "stdout",
     "output_type": "stream",
     "text": [
      "[[0 1 0 0]\n",
      " [1 0 0 0]\n",
      " [0 1 0 1]\n",
      " [0 0 0 0]]\n"
     ]
    },
    {
     "data": {
      "text/html": [
       "<div>\n",
       "<style scoped>\n",
       "    .dataframe tbody tr th:only-of-type {\n",
       "        vertical-align: middle;\n",
       "    }\n",
       "\n",
       "    .dataframe tbody tr th {\n",
       "        vertical-align: top;\n",
       "    }\n",
       "\n",
       "    .dataframe thead th {\n",
       "        text-align: right;\n",
       "    }\n",
       "</style>\n",
       "<table border=\"1\" class=\"dataframe\">\n",
       "  <thead>\n",
       "    <tr style=\"text-align: right;\">\n",
       "      <th></th>\n",
       "      <th>A</th>\n",
       "      <th>B</th>\n",
       "      <th>C</th>\n",
       "      <th>D</th>\n",
       "    </tr>\n",
       "  </thead>\n",
       "  <tbody>\n",
       "    <tr>\n",
       "      <th>A</th>\n",
       "      <td>0.0</td>\n",
       "      <td>1.0</td>\n",
       "      <td>0.0</td>\n",
       "      <td>0.0</td>\n",
       "    </tr>\n",
       "    <tr>\n",
       "      <th>B</th>\n",
       "      <td>1.0</td>\n",
       "      <td>0.0</td>\n",
       "      <td>0.0</td>\n",
       "      <td>0.0</td>\n",
       "    </tr>\n",
       "    <tr>\n",
       "      <th>C</th>\n",
       "      <td>0.0</td>\n",
       "      <td>1.0</td>\n",
       "      <td>0.0</td>\n",
       "      <td>1.0</td>\n",
       "    </tr>\n",
       "    <tr>\n",
       "      <th>D</th>\n",
       "      <td>0.0</td>\n",
       "      <td>0.0</td>\n",
       "      <td>0.0</td>\n",
       "      <td>0.0</td>\n",
       "    </tr>\n",
       "  </tbody>\n",
       "</table>\n",
       "</div>"
      ],
      "text/plain": [
       "     A    B    C    D\n",
       "A  0.0  1.0  0.0  0.0\n",
       "B  1.0  0.0  0.0  0.0\n",
       "C  0.0  1.0  0.0  1.0\n",
       "D  0.0  0.0  0.0  0.0"
      ]
     },
     "execution_count": 10,
     "metadata": {},
     "output_type": "execute_result"
    }
   ],
   "source": [
    "import networkx as nx\n",
    "import numpy as np\n",
    "import pandas as pd\n",
    "\n",
    "# Instantiate the graph\n",
    "G = nx.DiGraph()\n",
    "# add node/edge pairs\n",
    "G.add_edges_from([(\"A\", \"B\"), (\"B\", \"A\"), (\"C\", \"B\"), (\"C\", \"D\")])\n",
    "# 2D array adjacency matrix\n",
    "A = nx.adjacency_matrix(G)\n",
    "A_dense = A.todense()\n",
    "print(A_dense)\n",
    "# Pandas format of adjacency matrix\n",
    "nx.to_pandas_adjacency(G)"
   ]
  },
  {
   "cell_type": "markdown",
   "id": "7be2bf08",
   "metadata": {},
   "source": [
    "## Calculate the number of IN-edges, OUT-edges, add edge and remove edge."
   ]
  },
  {
   "cell_type": "code",
   "execution_count": 6,
   "id": "ef2687da",
   "metadata": {},
   "outputs": [
    {
     "name": "stdout",
     "output_type": "stream",
     "text": [
      "OUT-edges of node B: 1\n",
      "IN-edges of node B: 2\n",
      "Check an edge from A to C: False\n",
      "Check an edge from A to C: True\n",
      "Check an edge from A to D: True\n",
      "Check an edge from A to C: False\n",
      "Check an edge from A to D: False\n"
     ]
    }
   ],
   "source": [
    "# Instantiate the graph\n",
    "G = nx.DiGraph()\n",
    "# add node/edge pairs\n",
    "G.add_edges_from([(\"A\", \"B\"), (\"B\", \"A\"), (\"C\", \"B\"), (\"C\", \"D\")])\n",
    "\n",
    "# Get a vertex’s out-edges:\n",
    "print(f\"OUT-edges of node B: {G.out_degree('B')}\")\n",
    "# Get a vertex’s in-edges: \n",
    "print(f\"IN-edges of node B: {G.in_degree('B')}\")\n",
    "# Decide if some edge exists: \n",
    "print(f\"Check an edge from A to C: {G.has_edge('A', 'C')}\")\n",
    "# Insert an edge:\n",
    "G.add_edge(\"A\", \"C\") \n",
    "# OR \n",
    "G.add_edges_from([(\"A\", \"D\")])\n",
    "print(f\"Check an edge from A to C: {G.has_edge('A', 'C')}\")\n",
    "print(f\"Check an edge from A to D: {G.has_edge('A', 'D')}\")\n",
    "# Delete an edge:\n",
    "G.remove_edge(\"A\", \"C\") \n",
    "# OR \n",
    "G.remove_edges_from([(\"A\", \"D\")])\n",
    "print(f\"Check an edge from A to C: {G.has_edge('A', 'C')}\")\n",
    "print(f\"Check an edge from A to D: {G.has_edge('A', 'D')}\")"
   ]
  },
  {
   "cell_type": "markdown",
   "id": "05776b6a",
   "metadata": {},
   "source": [
    "## Display adjacency list of a directed graph"
   ]
  },
  {
   "cell_type": "code",
   "execution_count": 16,
   "id": "75e3a8a0",
   "metadata": {},
   "outputs": [
    {
     "name": "stdout",
     "output_type": "stream",
     "text": [
      "A B\n",
      "B A\n",
      "C B D\n",
      "D\n"
     ]
    }
   ],
   "source": [
    "# Instantiate the graph\n",
    "G = nx.DiGraph()\n",
    "# add node/edge pairs\n",
    "G.add_edges_from([(\"A\", \"B\"), (\"B\", \"A\"), (\"C\", \"B\"), (\"C\", \"D\")])\n",
    "adjacency_list = nx.generate_adjlist(G)\n",
    "for line in adjacency_list:\n",
    "    print(line)"
   ]
  },
  {
   "cell_type": "markdown",
   "id": "470ad911",
   "metadata": {},
   "source": [
    "## Display sparse and dense adjacency matrix of a directed graph"
   ]
  },
  {
   "cell_type": "code",
   "execution_count": 24,
   "id": "ce702469",
   "metadata": {},
   "outputs": [
    {
     "name": "stdout",
     "output_type": "stream",
     "text": [
      "0 1\n",
      "1 0\n",
      "2 1 3\n",
      "3\n",
      "  (0, 1)\t1\n",
      "  (1, 0)\t1\n",
      "  (2, 1)\t1\n",
      "  (2, 3)\t1\n"
     ]
    },
    {
     "data": {
      "text/html": [
       "<div>\n",
       "<style scoped>\n",
       "    .dataframe tbody tr th:only-of-type {\n",
       "        vertical-align: middle;\n",
       "    }\n",
       "\n",
       "    .dataframe tbody tr th {\n",
       "        vertical-align: top;\n",
       "    }\n",
       "\n",
       "    .dataframe thead th {\n",
       "        text-align: right;\n",
       "    }\n",
       "</style>\n",
       "<table border=\"1\" class=\"dataframe\">\n",
       "  <thead>\n",
       "    <tr style=\"text-align: right;\">\n",
       "      <th></th>\n",
       "      <th>0</th>\n",
       "      <th>1</th>\n",
       "      <th>2</th>\n",
       "      <th>3</th>\n",
       "    </tr>\n",
       "  </thead>\n",
       "  <tbody>\n",
       "    <tr>\n",
       "      <th>0</th>\n",
       "      <td>0.0</td>\n",
       "      <td>1.0</td>\n",
       "      <td>0.0</td>\n",
       "      <td>0.0</td>\n",
       "    </tr>\n",
       "    <tr>\n",
       "      <th>1</th>\n",
       "      <td>1.0</td>\n",
       "      <td>0.0</td>\n",
       "      <td>0.0</td>\n",
       "      <td>0.0</td>\n",
       "    </tr>\n",
       "    <tr>\n",
       "      <th>2</th>\n",
       "      <td>0.0</td>\n",
       "      <td>1.0</td>\n",
       "      <td>0.0</td>\n",
       "      <td>1.0</td>\n",
       "    </tr>\n",
       "    <tr>\n",
       "      <th>3</th>\n",
       "      <td>0.0</td>\n",
       "      <td>0.0</td>\n",
       "      <td>0.0</td>\n",
       "      <td>0.0</td>\n",
       "    </tr>\n",
       "  </tbody>\n",
       "</table>\n",
       "</div>"
      ],
      "text/plain": [
       "     0    1    2    3\n",
       "0  0.0  1.0  0.0  0.0\n",
       "1  1.0  0.0  0.0  0.0\n",
       "2  0.0  1.0  0.0  1.0\n",
       "3  0.0  0.0  0.0  0.0"
      ]
     },
     "execution_count": 24,
     "metadata": {},
     "output_type": "execute_result"
    }
   ],
   "source": [
    "# Instantiate the graph\n",
    "G = nx.DiGraph()\n",
    "# add node/edge pairs\n",
    "G.add_edges_from([(0, 1), (1, 0), (2, 1), (2, 3)])\n",
    "\n",
    "adjacency_list = nx.generate_adjlist(G)\n",
    "for line in adjacency_list:\n",
    "    print(line)\n",
    "\n",
    "A = nx.adjacency_matrix(G)\n",
    "print(A)\n",
    "\n",
    "# Pandas format of adjacency matrix\n",
    "nx.to_pandas_adjacency(G)"
   ]
  },
  {
   "cell_type": "markdown",
   "id": "33ba6a37",
   "metadata": {},
   "source": [
    "## Display adjacency list, sparse and dense adjacency matrix of an undirected graph"
   ]
  },
  {
   "cell_type": "code",
   "execution_count": 25,
   "id": "6b77bb0a",
   "metadata": {},
   "outputs": [
    {
     "name": "stdout",
     "output_type": "stream",
     "text": [
      "0 1\n",
      "1 2\n",
      "2 3\n",
      "3\n",
      "  (0, 1)\t1\n",
      "  (1, 0)\t1\n",
      "  (1, 2)\t1\n",
      "  (2, 1)\t1\n",
      "  (2, 3)\t1\n",
      "  (3, 2)\t1\n"
     ]
    },
    {
     "data": {
      "text/html": [
       "<div>\n",
       "<style scoped>\n",
       "    .dataframe tbody tr th:only-of-type {\n",
       "        vertical-align: middle;\n",
       "    }\n",
       "\n",
       "    .dataframe tbody tr th {\n",
       "        vertical-align: top;\n",
       "    }\n",
       "\n",
       "    .dataframe thead th {\n",
       "        text-align: right;\n",
       "    }\n",
       "</style>\n",
       "<table border=\"1\" class=\"dataframe\">\n",
       "  <thead>\n",
       "    <tr style=\"text-align: right;\">\n",
       "      <th></th>\n",
       "      <th>0</th>\n",
       "      <th>1</th>\n",
       "      <th>2</th>\n",
       "      <th>3</th>\n",
       "    </tr>\n",
       "  </thead>\n",
       "  <tbody>\n",
       "    <tr>\n",
       "      <th>0</th>\n",
       "      <td>0.0</td>\n",
       "      <td>1.0</td>\n",
       "      <td>0.0</td>\n",
       "      <td>0.0</td>\n",
       "    </tr>\n",
       "    <tr>\n",
       "      <th>1</th>\n",
       "      <td>1.0</td>\n",
       "      <td>0.0</td>\n",
       "      <td>1.0</td>\n",
       "      <td>0.0</td>\n",
       "    </tr>\n",
       "    <tr>\n",
       "      <th>2</th>\n",
       "      <td>0.0</td>\n",
       "      <td>1.0</td>\n",
       "      <td>0.0</td>\n",
       "      <td>1.0</td>\n",
       "    </tr>\n",
       "    <tr>\n",
       "      <th>3</th>\n",
       "      <td>0.0</td>\n",
       "      <td>0.0</td>\n",
       "      <td>1.0</td>\n",
       "      <td>0.0</td>\n",
       "    </tr>\n",
       "  </tbody>\n",
       "</table>\n",
       "</div>"
      ],
      "text/plain": [
       "     0    1    2    3\n",
       "0  0.0  1.0  0.0  0.0\n",
       "1  1.0  0.0  1.0  0.0\n",
       "2  0.0  1.0  0.0  1.0\n",
       "3  0.0  0.0  1.0  0.0"
      ]
     },
     "execution_count": 25,
     "metadata": {},
     "output_type": "execute_result"
    }
   ],
   "source": [
    "# Instantiate the graph\n",
    "G = nx.Graph()\n",
    "# add node/edge pairs\n",
    "G.add_edges_from([(0, 1), (1, 0), (2, 1), (2, 3)])\n",
    "# Adjency list\n",
    "adjacency_list = nx.generate_adjlist(G)\n",
    "for line in adjacency_list:\n",
    "    print(line)\n",
    "    \n",
    "A = nx.adjacency_matrix(G)\n",
    "print(A)\n",
    "    \n",
    "nx.to_pandas_adjacency(G)"
   ]
  },
  {
   "cell_type": "code",
   "execution_count": null,
   "id": "0b4371e4",
   "metadata": {},
   "outputs": [],
   "source": []
  }
 ],
 "metadata": {
  "kernelspec": {
   "display_name": "Python 3 (ipykernel)",
   "language": "python",
   "name": "python3"
  },
  "language_info": {
   "codemirror_mode": {
    "name": "ipython",
    "version": 3
   },
   "file_extension": ".py",
   "mimetype": "text/x-python",
   "name": "python",
   "nbconvert_exporter": "python",
   "pygments_lexer": "ipython3",
   "version": "3.7.15"
  }
 },
 "nbformat": 4,
 "nbformat_minor": 5
}
