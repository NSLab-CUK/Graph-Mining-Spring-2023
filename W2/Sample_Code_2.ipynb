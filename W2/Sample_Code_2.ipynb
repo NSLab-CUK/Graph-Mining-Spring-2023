{
 "cells": [
  {
   "cell_type": "markdown",
   "id": "22382e4f",
   "metadata": {},
   "source": [
    "# Sample code of adjacency matrix and adjacency list in graph with networkx\n",
    "## Install the necessary python libraries"
   ]
  },
  {
   "cell_type": "code",
   "execution_count": 62,
   "id": "d510fe91",
   "metadata": {},
   "outputs": [
    {
     "name": "stdout",
     "output_type": "stream",
     "text": [
      "Requirement already satisfied: networkx in c:\\users\\user\\anaconda3\\envs\\python7\\lib\\site-packages (2.6.3)\n",
      "Requirement already satisfied: pandas in c:\\users\\user\\anaconda3\\envs\\python7\\lib\\site-packages (1.3.5)\n",
      "Requirement already satisfied: numpy in c:\\users\\user\\anaconda3\\envs\\python7\\lib\\site-packages (1.21.6)\n",
      "Requirement already satisfied: pytz>=2017.3 in c:\\users\\user\\anaconda3\\envs\\python7\\lib\\site-packages (from pandas) (2022.7.1)\n",
      "Requirement already satisfied: python-dateutil>=2.7.3 in c:\\users\\user\\anaconda3\\envs\\python7\\lib\\site-packages (from pandas) (2.8.2)\n",
      "Requirement already satisfied: six>=1.5 in c:\\users\\user\\anaconda3\\envs\\python7\\lib\\site-packages (from python-dateutil>=2.7.3->pandas) (1.16.0)\n"
     ]
    }
   ],
   "source": [
    "!pip install networkx pandas numpy"
   ]
  },
  {
   "cell_type": "markdown",
   "id": "f9cc7288",
   "metadata": {},
   "source": [
    "## Generate adjacency dense matrix of directed graph"
   ]
  },
  {
   "cell_type": "code",
   "execution_count": 63,
   "id": "348614ba",
   "metadata": {},
   "outputs": [
    {
     "name": "stdout",
     "output_type": "stream",
     "text": [
      "[[0 1 0 0]\n",
      " [1 0 0 0]\n",
      " [0 1 0 1]\n",
      " [0 0 0 0]]\n"
     ]
    },
    {
     "data": {
      "text/html": [
       "<div>\n",
       "<style scoped>\n",
       "    .dataframe tbody tr th:only-of-type {\n",
       "        vertical-align: middle;\n",
       "    }\n",
       "\n",
       "    .dataframe tbody tr th {\n",
       "        vertical-align: top;\n",
       "    }\n",
       "\n",
       "    .dataframe thead th {\n",
       "        text-align: right;\n",
       "    }\n",
       "</style>\n",
       "<table border=\"1\" class=\"dataframe\">\n",
       "  <thead>\n",
       "    <tr style=\"text-align: right;\">\n",
       "      <th></th>\n",
       "      <th>A</th>\n",
       "      <th>B</th>\n",
       "      <th>C</th>\n",
       "      <th>D</th>\n",
       "    </tr>\n",
       "  </thead>\n",
       "  <tbody>\n",
       "    <tr>\n",
       "      <th>A</th>\n",
       "      <td>0.0</td>\n",
       "      <td>1.0</td>\n",
       "      <td>0.0</td>\n",
       "      <td>0.0</td>\n",
       "    </tr>\n",
       "    <tr>\n",
       "      <th>B</th>\n",
       "      <td>1.0</td>\n",
       "      <td>0.0</td>\n",
       "      <td>0.0</td>\n",
       "      <td>0.0</td>\n",
       "    </tr>\n",
       "    <tr>\n",
       "      <th>C</th>\n",
       "      <td>0.0</td>\n",
       "      <td>1.0</td>\n",
       "      <td>0.0</td>\n",
       "      <td>1.0</td>\n",
       "    </tr>\n",
       "    <tr>\n",
       "      <th>D</th>\n",
       "      <td>0.0</td>\n",
       "      <td>0.0</td>\n",
       "      <td>0.0</td>\n",
       "      <td>0.0</td>\n",
       "    </tr>\n",
       "  </tbody>\n",
       "</table>\n",
       "</div>"
      ],
      "text/plain": [
       "     A    B    C    D\n",
       "A  0.0  1.0  0.0  0.0\n",
       "B  1.0  0.0  0.0  0.0\n",
       "C  0.0  1.0  0.0  1.0\n",
       "D  0.0  0.0  0.0  0.0"
      ]
     },
     "execution_count": 63,
     "metadata": {},
     "output_type": "execute_result"
    }
   ],
   "source": [
    "import networkx as nx\n",
    "import numpy as np\n",
    "import pandas as pd\n",
    "\n",
    "# Instantiate the graph\n",
    "G = nx.DiGraph()\n",
    "# add node/edge pairs\n",
    "G.add_edges_from([(\"A\", \"B\"), (\"B\", \"A\"), (\"C\", \"B\"), (\"C\", \"D\")])\n",
    "# 2D array adjacency matrix\n",
    "A = nx.adjacency_matrix(G)\n",
    "A_dense = A.todense()\n",
    "print(A_dense)\n",
    "# Pandas format of adjacency matrix\n",
    "nx.to_pandas_adjacency(G)"
   ]
  },
  {
   "cell_type": "markdown",
   "id": "78a3900e",
   "metadata": {},
   "source": [
    "## Calculate the number of IN-edges, OUT-edges, add edge and remove edge."
   ]
  },
  {
   "cell_type": "code",
   "execution_count": 64,
   "id": "ef2687da",
   "metadata": {},
   "outputs": [
    {
     "name": "stdout",
     "output_type": "stream",
     "text": [
      "OUT-edges of node B: 1\n",
      "IN-edges of node B: 2\n",
      "Check an edge from A to C: False\n",
      "Check an edge from A to C: True\n",
      "Check an edge from A to D: True\n",
      "Check an edge from A to C: False\n",
      "Check an edge from A to D: False\n"
     ]
    }
   ],
   "source": [
    "# Instantiate the graph\n",
    "G = nx.DiGraph()\n",
    "# add node/edge pairs\n",
    "G.add_edges_from([(\"A\", \"B\"), (\"B\", \"A\"), (\"C\", \"B\"), (\"C\", \"D\")])\n",
    "\n",
    "# Get a vertex’s out-edges:\n",
    "print(f\"OUT-edges of node B: {G.out_degree('B')}\")\n",
    "# Get a vertex’s in-edges: \n",
    "print(f\"IN-edges of node B: {G.in_degree('B')}\")\n",
    "# Decide if some edge exists: \n",
    "print(f\"Check an edge from A to C: {G.has_edge('A', 'C')}\")\n",
    "# Insert an edge:\n",
    "G.add_edge(\"A\", \"C\") \n",
    "# OR \n",
    "G.add_edges_from([(\"A\", \"D\")])\n",
    "print(f\"Check an edge from A to C: {G.has_edge('A', 'C')}\")\n",
    "print(f\"Check an edge from A to D: {G.has_edge('A', 'D')}\")\n",
    "# Delete an edge:\n",
    "G.remove_edge(\"A\", \"C\") \n",
    "# OR \n",
    "G.remove_edges_from([(\"A\", \"D\")])\n",
    "print(f\"Check an edge from A to C: {G.has_edge('A', 'C')}\")\n",
    "print(f\"Check an edge from A to D: {G.has_edge('A', 'D')}\")"
   ]
  },
  {
   "cell_type": "markdown",
   "id": "7a6e04c2",
   "metadata": {},
   "source": [
    "## Display adjacency list of a directed graph"
   ]
  },
  {
   "cell_type": "code",
   "execution_count": 65,
   "id": "7f91aa63",
   "metadata": {},
   "outputs": [
    {
     "name": "stdout",
     "output_type": "stream",
     "text": [
      "A B\n",
      "B A\n",
      "C B D\n",
      "D\n"
     ]
    }
   ],
   "source": [
    "# Instantiate the graph\n",
    "G = nx.DiGraph()\n",
    "# add node/edge pairs\n",
    "G.add_edges_from([(\"A\", \"B\"), (\"B\", \"A\"), (\"C\", \"B\"), (\"C\", \"D\")])\n",
    "adjacency_list = nx.generate_adjlist(G)\n",
    "for line in adjacency_list:\n",
    "    print(line)"
   ]
  },
  {
   "cell_type": "markdown",
   "id": "f06e67b5",
   "metadata": {},
   "source": [
    "## Display sparse and dense adjacency matrix of a directed graph"
   ]
  },
  {
   "cell_type": "code",
   "execution_count": 66,
   "id": "ce702469",
   "metadata": {},
   "outputs": [
    {
     "name": "stdout",
     "output_type": "stream",
     "text": [
      "0 1\n",
      "1 0\n",
      "2 1 3\n",
      "3\n",
      "  (0, 1)\t1\n",
      "  (1, 0)\t1\n",
      "  (2, 1)\t1\n",
      "  (2, 3)\t1\n"
     ]
    },
    {
     "data": {
      "text/html": [
       "<div>\n",
       "<style scoped>\n",
       "    .dataframe tbody tr th:only-of-type {\n",
       "        vertical-align: middle;\n",
       "    }\n",
       "\n",
       "    .dataframe tbody tr th {\n",
       "        vertical-align: top;\n",
       "    }\n",
       "\n",
       "    .dataframe thead th {\n",
       "        text-align: right;\n",
       "    }\n",
       "</style>\n",
       "<table border=\"1\" class=\"dataframe\">\n",
       "  <thead>\n",
       "    <tr style=\"text-align: right;\">\n",
       "      <th></th>\n",
       "      <th>0</th>\n",
       "      <th>1</th>\n",
       "      <th>2</th>\n",
       "      <th>3</th>\n",
       "    </tr>\n",
       "  </thead>\n",
       "  <tbody>\n",
       "    <tr>\n",
       "      <th>0</th>\n",
       "      <td>0.0</td>\n",
       "      <td>1.0</td>\n",
       "      <td>0.0</td>\n",
       "      <td>0.0</td>\n",
       "    </tr>\n",
       "    <tr>\n",
       "      <th>1</th>\n",
       "      <td>1.0</td>\n",
       "      <td>0.0</td>\n",
       "      <td>0.0</td>\n",
       "      <td>0.0</td>\n",
       "    </tr>\n",
       "    <tr>\n",
       "      <th>2</th>\n",
       "      <td>0.0</td>\n",
       "      <td>1.0</td>\n",
       "      <td>0.0</td>\n",
       "      <td>1.0</td>\n",
       "    </tr>\n",
       "    <tr>\n",
       "      <th>3</th>\n",
       "      <td>0.0</td>\n",
       "      <td>0.0</td>\n",
       "      <td>0.0</td>\n",
       "      <td>0.0</td>\n",
       "    </tr>\n",
       "  </tbody>\n",
       "</table>\n",
       "</div>"
      ],
      "text/plain": [
       "     0    1    2    3\n",
       "0  0.0  1.0  0.0  0.0\n",
       "1  1.0  0.0  0.0  0.0\n",
       "2  0.0  1.0  0.0  1.0\n",
       "3  0.0  0.0  0.0  0.0"
      ]
     },
     "execution_count": 66,
     "metadata": {},
     "output_type": "execute_result"
    }
   ],
   "source": [
    "# Instantiate the graph\n",
    "G = nx.DiGraph()\n",
    "# add node/edge pairs\n",
    "G.add_edges_from([(0, 1), (1, 0), (2, 1), (2, 3)])\n",
    "\n",
    "adjacency_list = nx.generate_adjlist(G)\n",
    "for line in adjacency_list:\n",
    "    print(line)\n",
    "\n",
    "A = nx.adjacency_matrix(G)\n",
    "print(A)\n",
    "\n",
    "# Pandas format of adjacency matrix\n",
    "nx.to_pandas_adjacency(G)"
   ]
  },
  {
   "cell_type": "markdown",
   "id": "b3e18003",
   "metadata": {},
   "source": [
    "## Display adjacency list, sparse and dense adjacency matrix of an undirected graph"
   ]
  },
  {
   "cell_type": "code",
   "execution_count": 67,
   "id": "6b77bb0a",
   "metadata": {},
   "outputs": [
    {
     "name": "stdout",
     "output_type": "stream",
     "text": [
      "0 1\n",
      "1 2\n",
      "2 3\n",
      "3\n",
      "  (0, 1)\t1\n",
      "  (1, 0)\t1\n",
      "  (1, 2)\t1\n",
      "  (2, 1)\t1\n",
      "  (2, 3)\t1\n",
      "  (3, 2)\t1\n"
     ]
    },
    {
     "data": {
      "text/html": [
       "<div>\n",
       "<style scoped>\n",
       "    .dataframe tbody tr th:only-of-type {\n",
       "        vertical-align: middle;\n",
       "    }\n",
       "\n",
       "    .dataframe tbody tr th {\n",
       "        vertical-align: top;\n",
       "    }\n",
       "\n",
       "    .dataframe thead th {\n",
       "        text-align: right;\n",
       "    }\n",
       "</style>\n",
       "<table border=\"1\" class=\"dataframe\">\n",
       "  <thead>\n",
       "    <tr style=\"text-align: right;\">\n",
       "      <th></th>\n",
       "      <th>0</th>\n",
       "      <th>1</th>\n",
       "      <th>2</th>\n",
       "      <th>3</th>\n",
       "    </tr>\n",
       "  </thead>\n",
       "  <tbody>\n",
       "    <tr>\n",
       "      <th>0</th>\n",
       "      <td>0.0</td>\n",
       "      <td>1.0</td>\n",
       "      <td>0.0</td>\n",
       "      <td>0.0</td>\n",
       "    </tr>\n",
       "    <tr>\n",
       "      <th>1</th>\n",
       "      <td>1.0</td>\n",
       "      <td>0.0</td>\n",
       "      <td>1.0</td>\n",
       "      <td>0.0</td>\n",
       "    </tr>\n",
       "    <tr>\n",
       "      <th>2</th>\n",
       "      <td>0.0</td>\n",
       "      <td>1.0</td>\n",
       "      <td>0.0</td>\n",
       "      <td>1.0</td>\n",
       "    </tr>\n",
       "    <tr>\n",
       "      <th>3</th>\n",
       "      <td>0.0</td>\n",
       "      <td>0.0</td>\n",
       "      <td>1.0</td>\n",
       "      <td>0.0</td>\n",
       "    </tr>\n",
       "  </tbody>\n",
       "</table>\n",
       "</div>"
      ],
      "text/plain": [
       "     0    1    2    3\n",
       "0  0.0  1.0  0.0  0.0\n",
       "1  1.0  0.0  1.0  0.0\n",
       "2  0.0  1.0  0.0  1.0\n",
       "3  0.0  0.0  1.0  0.0"
      ]
     },
     "execution_count": 67,
     "metadata": {},
     "output_type": "execute_result"
    }
   ],
   "source": [
    "# Instantiate the graph\n",
    "G = nx.Graph()\n",
    "# add node/edge pairs\n",
    "G.add_edges_from([(0, 1), (1, 0), (2, 1), (2, 3)])\n",
    "# Adjacency list\n",
    "adjacency_list = nx.generate_adjlist(G)\n",
    "for line in adjacency_list:\n",
    "    print(line)\n",
    "    \n",
    "A = nx.adjacency_matrix(G)\n",
    "print(A)\n",
    "    \n",
    "nx.to_pandas_adjacency(G)"
   ]
  },
  {
   "cell_type": "markdown",
   "id": "200b745e",
   "metadata": {},
   "source": [
    "## Weighted graph"
   ]
  },
  {
   "cell_type": "code",
   "execution_count": 68,
   "id": "3900f691",
   "metadata": {},
   "outputs": [
    {
     "name": "stdout",
     "output_type": "stream",
     "text": [
      "[[0.  1.5 0.  0. ]\n",
      " [1.5 0.  0.  0. ]\n",
      " [0.  3.  0.  2.5]\n",
      " [0.  0.  0.  0. ]]\n"
     ]
    },
    {
     "data": {
      "text/html": [
       "<div>\n",
       "<style scoped>\n",
       "    .dataframe tbody tr th:only-of-type {\n",
       "        vertical-align: middle;\n",
       "    }\n",
       "\n",
       "    .dataframe tbody tr th {\n",
       "        vertical-align: top;\n",
       "    }\n",
       "\n",
       "    .dataframe thead th {\n",
       "        text-align: right;\n",
       "    }\n",
       "</style>\n",
       "<table border=\"1\" class=\"dataframe\">\n",
       "  <thead>\n",
       "    <tr style=\"text-align: right;\">\n",
       "      <th></th>\n",
       "      <th>A</th>\n",
       "      <th>B</th>\n",
       "      <th>C</th>\n",
       "      <th>D</th>\n",
       "    </tr>\n",
       "  </thead>\n",
       "  <tbody>\n",
       "    <tr>\n",
       "      <th>A</th>\n",
       "      <td>0.0</td>\n",
       "      <td>1.5</td>\n",
       "      <td>0.0</td>\n",
       "      <td>0.0</td>\n",
       "    </tr>\n",
       "    <tr>\n",
       "      <th>B</th>\n",
       "      <td>1.5</td>\n",
       "      <td>0.0</td>\n",
       "      <td>0.0</td>\n",
       "      <td>0.0</td>\n",
       "    </tr>\n",
       "    <tr>\n",
       "      <th>C</th>\n",
       "      <td>0.0</td>\n",
       "      <td>3.0</td>\n",
       "      <td>0.0</td>\n",
       "      <td>2.5</td>\n",
       "    </tr>\n",
       "    <tr>\n",
       "      <th>D</th>\n",
       "      <td>0.0</td>\n",
       "      <td>0.0</td>\n",
       "      <td>0.0</td>\n",
       "      <td>0.0</td>\n",
       "    </tr>\n",
       "  </tbody>\n",
       "</table>\n",
       "</div>"
      ],
      "text/plain": [
       "     A    B    C    D\n",
       "A  0.0  1.5  0.0  0.0\n",
       "B  1.5  0.0  0.0  0.0\n",
       "C  0.0  3.0  0.0  2.5\n",
       "D  0.0  0.0  0.0  0.0"
      ]
     },
     "execution_count": 68,
     "metadata": {},
     "output_type": "execute_result"
    }
   ],
   "source": [
    "# Instantiate the graph\n",
    "G = nx.DiGraph()\n",
    "# add node/edge pairs\n",
    "G.add_weighted_edges_from([(\"A\", \"B\", 1.5), (\"B\", \"A\", 1.5), (\"C\", \"B\", 3), (\"C\", \"D\", 2.5)])\n",
    "# 2D array adjacency matrix\n",
    "A = nx.adjacency_matrix(G)\n",
    "A_dense = A.todense()\n",
    "print(A_dense)\n",
    "# Pandas format of adjacency matrix\n",
    "nx.to_pandas_adjacency(G)"
   ]
  },
  {
   "cell_type": "code",
   "execution_count": 69,
   "id": "c0fcb9f4",
   "metadata": {},
   "outputs": [
    {
     "name": "stdout",
     "output_type": "stream",
     "text": [
      "[[0 0 3 0 4]\n",
      " [0 0 5 7 0]\n",
      " [0 0 0 0 0]\n",
      " [0 2 6 0 0]\n",
      " [0 0 0 0 0]]\n"
     ]
    },
    {
     "data": {
      "text/html": [
       "<div>\n",
       "<style scoped>\n",
       "    .dataframe tbody tr th:only-of-type {\n",
       "        vertical-align: middle;\n",
       "    }\n",
       "\n",
       "    .dataframe tbody tr th {\n",
       "        vertical-align: top;\n",
       "    }\n",
       "\n",
       "    .dataframe thead th {\n",
       "        text-align: right;\n",
       "    }\n",
       "</style>\n",
       "<table border=\"1\" class=\"dataframe\">\n",
       "  <thead>\n",
       "    <tr style=\"text-align: right;\">\n",
       "      <th></th>\n",
       "      <th>1</th>\n",
       "      <th>2</th>\n",
       "      <th>3</th>\n",
       "      <th>4</th>\n",
       "      <th>5</th>\n",
       "    </tr>\n",
       "  </thead>\n",
       "  <tbody>\n",
       "    <tr>\n",
       "      <th>1</th>\n",
       "      <td>0.0</td>\n",
       "      <td>0.0</td>\n",
       "      <td>3.0</td>\n",
       "      <td>0.0</td>\n",
       "      <td>4.0</td>\n",
       "    </tr>\n",
       "    <tr>\n",
       "      <th>2</th>\n",
       "      <td>0.0</td>\n",
       "      <td>0.0</td>\n",
       "      <td>5.0</td>\n",
       "      <td>7.0</td>\n",
       "      <td>0.0</td>\n",
       "    </tr>\n",
       "    <tr>\n",
       "      <th>3</th>\n",
       "      <td>0.0</td>\n",
       "      <td>0.0</td>\n",
       "      <td>0.0</td>\n",
       "      <td>0.0</td>\n",
       "      <td>0.0</td>\n",
       "    </tr>\n",
       "    <tr>\n",
       "      <th>4</th>\n",
       "      <td>0.0</td>\n",
       "      <td>2.0</td>\n",
       "      <td>6.0</td>\n",
       "      <td>0.0</td>\n",
       "      <td>0.0</td>\n",
       "    </tr>\n",
       "    <tr>\n",
       "      <th>5</th>\n",
       "      <td>0.0</td>\n",
       "      <td>0.0</td>\n",
       "      <td>0.0</td>\n",
       "      <td>0.0</td>\n",
       "      <td>0.0</td>\n",
       "    </tr>\n",
       "  </tbody>\n",
       "</table>\n",
       "</div>"
      ],
      "text/plain": [
       "     1    2    3    4    5\n",
       "1  0.0  0.0  3.0  0.0  4.0\n",
       "2  0.0  0.0  5.0  7.0  0.0\n",
       "3  0.0  0.0  0.0  0.0  0.0\n",
       "4  0.0  2.0  6.0  0.0  0.0\n",
       "5  0.0  0.0  0.0  0.0  0.0"
      ]
     },
     "execution_count": 69,
     "metadata": {},
     "output_type": "execute_result"
    }
   ],
   "source": [
    "import numpy as np\n",
    "# Instantiate the graph\n",
    "G = nx.DiGraph()\n",
    "G.add_nodes_from([1,2,3,4,5])\n",
    "\n",
    "# Define rows, columns and weighted values of the graph\n",
    "rows    = [1, 1, 2, 2, 4, 4]\n",
    "columns = [3, 5, 3, 4, 2, 3]\n",
    "values  = [3, 4, 5, 7, 2, 6]\n",
    "\n",
    "edges = zip(rows, columns, values)\n",
    "\n",
    "G.add_weighted_edges_from(list(edges))\n",
    "\n",
    "\n",
    "# 2D array adjacency matrix\n",
    "A = nx.adjacency_matrix(G)\n",
    "A_dense = A.todense()\n",
    "print(A_dense)\n",
    "# Pandas format of adjacency matrix\n",
    "nx.to_pandas_adjacency(G)"
   ]
  },
  {
   "cell_type": "markdown",
   "id": "8581606c",
   "metadata": {},
   "source": [
    "# Neo4j Example Scripts\n",
    "### Note: you should install Neo4j database in your computer and run these scripts in its UI application."
   ]
  },
  {
   "cell_type": "markdown",
   "id": "fbaf6725",
   "metadata": {},
   "source": [
    "### Add entities into graph database."
   ]
  },
  {
   "cell_type": "code",
   "execution_count": null,
   "id": "1aaa7213",
   "metadata": {},
   "outputs": [],
   "source": [
    "CREATE(:Book{name:'Graph Databases',published_date:'Nov 16, 2015'})\n",
    "CREATE(:Person{name:'John',born:'Mar 8, 1998',linkedin:'@john'})\n",
    "CREATE(:Person{name:'Sally',born:'Oct 16, 1997',linkedin:'@sali'})"
   ]
  },
  {
   "cell_type": "markdown",
   "id": "09761249",
   "metadata": {},
   "source": [
    "## Add relations"
   ]
  },
  {
   "cell_type": "code",
   "execution_count": null,
   "id": "13f544e1",
   "metadata": {},
   "outputs": [],
   "source": [
    "MATCH (a:Person), (b:Person) WHERE (a.name = 'John' AND b.name = 'Sally') CREATE (a)-[r1:IS_FRIENDS_WITH]->(b);\n",
    "MATCH (a:Person), (b:Book) WHERE (a.name = 'John' OR a.name = 'Sally') AND b.name='Graph Databases' CREATE (a)-[r2:HAS_READ]->(b)"
   ]
  },
  {
   "cell_type": "markdown",
   "id": "c330eaef",
   "metadata": {},
   "source": [
    "## Delete relationships"
   ]
  },
  {
   "cell_type": "code",
   "execution_count": null,
   "id": "d617d647",
   "metadata": {},
   "outputs": [],
   "source": [
    "MATCH (n:Person {name: 'John'})-[r:IS_FRIENDS_WITH]->() DELETE r\n"
   ]
  },
  {
   "cell_type": "markdown",
   "id": "27f3c3ed",
   "metadata": {},
   "source": [
    "## Delete entities\n",
    "You should remove all the relations connected to these entities before removing them"
   ]
  },
  {
   "cell_type": "code",
   "execution_count": null,
   "id": "076bf192",
   "metadata": {},
   "outputs": [],
   "source": [
    "MATCH (n:Person {name: 'John'})-[r:HAS_READ]->() DELETE r\n",
    "\n",
    "MATCH (n:Person {name: 'John'}) DELETE n"
   ]
  }
 ],
 "metadata": {
  "kernelspec": {
   "display_name": "Python 3 (ipykernel)",
   "language": "python",
   "name": "python3"
  },
  "language_info": {
   "codemirror_mode": {
    "name": "ipython",
    "version": 3
   },
   "file_extension": ".py",
   "mimetype": "text/x-python",
   "name": "python",
   "nbconvert_exporter": "python",
   "pygments_lexer": "ipython3",
   "version": "3.7.15"
  }
 },
 "nbformat": 4,
 "nbformat_minor": 5
}
