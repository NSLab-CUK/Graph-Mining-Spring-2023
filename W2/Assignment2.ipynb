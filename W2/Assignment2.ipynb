{
 "cells": [
  {
   "cell_type": "markdown",
   "id": "09156db2",
   "metadata": {},
   "source": [
    "# 1. Create a random  graph with bellow conditions:\n",
    " + This is a weighted and directed graph.\n",
    " + The number of nodes: 10.\n",
    " + The number of edges: 15.\n",
    " + Weight of each edge is the random float number from 1 to 10.\n",
    " + Each node has a label which is the uppercase alphabet character from A to J.\n",
    " + Use can use networkx or define your own Graph class.\n",
    "\n"
   ]
  },
  {
   "cell_type": "markdown",
   "id": "586a8549",
   "metadata": {},
   "source": [
    "# 2. Use the graph from requirement 1 to solve these problems:\n",
    " + Display the sparse and dense adjacency matrix of this graph.\n",
    " + Display the adjacency list.\n",
    " + Calculate the graph diameter.\n",
    " + Print the number of in-edges and out-edges of a node which entered from the keyboard.\n",
    " + Write a function to print the shortest path of 2 nodes.\n",
    " + Write functions to print all in-edges and out-edges of a node.\n"
   ]
  },
  {
   "cell_type": "markdown",
   "id": "bb1fef94",
   "metadata": {},
   "source": [
    "# 3. Write a program to read a file containing edge information of an undirected graph and store its dense adjacency matrix into a file.\n",
    "## Input: a file has format as follow: \n",
    "Node1 Node2 Weight<br />\n",
    "0 &nbsp;&nbsp;&nbsp;&nbsp;&nbsp;&nbsp;&nbsp; 1 &nbsp;&nbsp;&nbsp;&nbsp;&nbsp;&nbsp;&nbsp;&nbsp; 2<br />\n",
    "0 &nbsp;&nbsp;&nbsp;&nbsp;&nbsp;&nbsp;&nbsp; 2 &nbsp;&nbsp;&nbsp;&nbsp;&nbsp;&nbsp;&nbsp;&nbsp; 4<br />\n",
    "0 &nbsp;&nbsp;&nbsp;&nbsp;&nbsp;&nbsp;&nbsp; 5 &nbsp;&nbsp;&nbsp;&nbsp;&nbsp;&nbsp;&nbsp;&nbsp; 1<br />\n",
    "1 &nbsp;&nbsp;&nbsp;&nbsp;&nbsp;&nbsp;&nbsp; 3 &nbsp;&nbsp;&nbsp;&nbsp;&nbsp;&nbsp;&nbsp;&nbsp; 5<br />\n",
    "1 &nbsp;&nbsp;&nbsp;&nbsp;&nbsp;&nbsp;&nbsp; 5 &nbsp;&nbsp;&nbsp;&nbsp;&nbsp;&nbsp;&nbsp;&nbsp; 2<br />\n",
    "2 &nbsp;&nbsp;&nbsp;&nbsp;&nbsp;&nbsp;&nbsp; 4 &nbsp;&nbsp;&nbsp;&nbsp;&nbsp;&nbsp;&nbsp;&nbsp; 6<br />\n",
    "3 &nbsp;&nbsp;&nbsp;&nbsp;&nbsp;&nbsp;&nbsp; 4 &nbsp;&nbsp;&nbsp;&nbsp;&nbsp;&nbsp;&nbsp;&nbsp; 3<br />\n",
    "4 &nbsp;&nbsp;&nbsp;&nbsp;&nbsp;&nbsp;&nbsp; 6 &nbsp;&nbsp;&nbsp;&nbsp;&nbsp;&nbsp;&nbsp;&nbsp; 2<br />\n",
    "## Output: a file contains the dense adjacency matrix this graph.\n"
   ]
  },
  {
   "cell_type": "code",
   "execution_count": null,
   "id": "cc1afb77",
   "metadata": {},
   "outputs": [],
   "source": []
  },
  {
   "cell_type": "code",
   "execution_count": null,
   "id": "d386eb5b",
   "metadata": {},
   "outputs": [],
   "source": []
  }
 ],
 "metadata": {
  "kernelspec": {
   "display_name": "Python 3 (ipykernel)",
   "language": "python",
   "name": "python3"
  },
  "language_info": {
   "codemirror_mode": {
    "name": "ipython",
    "version": 3
   },
   "file_extension": ".py",
   "mimetype": "text/x-python",
   "name": "python",
   "nbconvert_exporter": "python",
   "pygments_lexer": "ipython3",
   "version": "3.7.15"
  }
 },
 "nbformat": 4,
 "nbformat_minor": 5
}
