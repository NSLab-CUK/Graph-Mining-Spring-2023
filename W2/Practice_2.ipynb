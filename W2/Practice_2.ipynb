{
 "cells": [
  {
   "cell_type": "markdown",
   "id": "09156db2",
   "metadata": {},
   "source": [
    "# Create Simple Graphs with Adjacency Matrix\n"
   ]
  },
  {
   "cell_type": "code",
   "execution_count": 32,
   "id": "f259891f",
   "metadata": {},
   "outputs": [],
   "source": [
    "class Graph(object):\n",
    "\n",
    "    # Initialize the matrix\n",
    "    def __init__(self, size, directed=False):\n",
    "        self.adjMatrix = []\n",
    "        self.directed = directed\n",
    "        \n",
    "        for i in range(size):\n",
    "            self.adjMatrix.append([0 for i in range(size)])\n",
    "        self.size = size\n",
    "\n",
    "    # Add edges\n",
    "    def add_edge(self, v1, v2, weight=1):\n",
    "        self.adjMatrix[v1][v2] = weight\n",
    "        if not self.directed:\n",
    "            self.adjMatrix[v2][v1] = weight\n",
    "\n",
    "    # Remove edges\n",
    "    def remove_edge(self, v1, v2):\n",
    "        if self.adjMatrix[v1][v2] == 0:\n",
    "            print(\"No edge between %d and %d\" % (v1, v2))\n",
    "            return\n",
    "        self.adjMatrix[v1][v2] = 0\n",
    "        self.adjMatrix[v2][v1] = 0\n",
    "\n",
    "    def __len__(self):\n",
    "        return self.size\n",
    "\n",
    "    # Print the matrix\n",
    "    def print_matrix(self):\n",
    "        for row in self.adjMatrix:\n",
    "            row_line = '\\t'.join(map(str, row))\n",
    "            print(f'{row_line}'),\n"
   ]
  },
  {
   "cell_type": "markdown",
   "id": "4d0669b0",
   "metadata": {},
   "source": [
    "## Create an undirected graph and print its Adjacency Matrix"
   ]
  },
  {
   "cell_type": "code",
   "execution_count": 33,
   "id": "8f8af1ef",
   "metadata": {},
   "outputs": [
    {
     "name": "stdout",
     "output_type": "stream",
     "text": [
      "0\t0\t1\t0\t1\n",
      "0\t0\t1\t1\t0\n",
      "1\t1\t0\t1\t0\n",
      "0\t1\t1\t0\t1\n",
      "1\t0\t0\t1\t0\n"
     ]
    }
   ],
   "source": [
    "def main():\n",
    "    g = Graph(5)\n",
    "    g.add_edge(0, 2)\n",
    "    g.add_edge(0, 4)\n",
    "    g.add_edge(1, 2)\n",
    "    g.add_edge(1, 3)\n",
    "    g.add_edge(2, 0)\n",
    "    g.add_edge(2, 3)\n",
    "    g.add_edge(3, 4)\n",
    "\n",
    "    g.print_matrix()\n",
    "\n",
    "\n",
    "if __name__ == '__main__':\n",
    "    main()"
   ]
  },
  {
   "cell_type": "markdown",
   "id": "96105901",
   "metadata": {},
   "source": [
    "## Create an directed graph and print its Adjacency Matrix"
   ]
  },
  {
   "cell_type": "code",
   "execution_count": 34,
   "id": "3fa90dad",
   "metadata": {},
   "outputs": [
    {
     "name": "stdout",
     "output_type": "stream",
     "text": [
      "0\t0\t1\t0\t1\n",
      "0\t0\t1\t1\t0\n",
      "1\t0\t0\t1\t0\n",
      "0\t0\t0\t0\t1\n",
      "0\t0\t0\t0\t0\n"
     ]
    }
   ],
   "source": [
    "def main():\n",
    "    g = Graph(5, directed=True)\n",
    "    g.add_edge(0, 2)\n",
    "    g.add_edge(0, 4)\n",
    "    g.add_edge(1, 2)\n",
    "    g.add_edge(1, 3)\n",
    "    g.add_edge(2, 0)\n",
    "    g.add_edge(2, 3)\n",
    "    g.add_edge(3, 4)\n",
    "\n",
    "    g.print_matrix()\n",
    "\n",
    "\n",
    "if __name__ == '__main__':\n",
    "    main()"
   ]
  },
  {
   "cell_type": "markdown",
   "id": "d30e41d3",
   "metadata": {},
   "source": [
    "## Create an weighted graph and print its Adjacency Matrix"
   ]
  },
  {
   "cell_type": "code",
   "execution_count": 35,
   "id": "48612aef",
   "metadata": {},
   "outputs": [
    {
     "name": "stdout",
     "output_type": "stream",
     "text": [
      "0\t0\t0.5\t0\t1\n",
      "0\t0\t2.0\t1\t0\n",
      "0.5\t2.0\t0\t3.0\t0\n",
      "0\t1\t3.0\t0\t2.5\n",
      "1\t0\t0\t2.5\t0\n"
     ]
    }
   ],
   "source": [
    "def main():\n",
    "    g = Graph(5)\n",
    "    g.add_edge(0, 2, 0.5)\n",
    "    g.add_edge(0, 4)\n",
    "    g.add_edge(1, 2, 2.0)\n",
    "    g.add_edge(1, 3)\n",
    "    g.add_edge(2, 0, 0.5)\n",
    "    g.add_edge(2, 3, 3.0)\n",
    "    g.add_edge(3, 4, 2.5)\n",
    "\n",
    "    g.print_matrix()\n",
    "\n",
    "\n",
    "if __name__ == '__main__':\n",
    "    main()"
   ]
  },
  {
   "cell_type": "markdown",
   "id": "dff0352a",
   "metadata": {},
   "source": [
    "## Create a function to print all out edges of a node"
   ]
  },
  {
   "cell_type": "code",
   "execution_count": 36,
   "id": "bd57f424",
   "metadata": {},
   "outputs": [],
   "source": [
    "def print_out_edges(self, v):\n",
    "    if v > self.size - 1:\n",
    "        print(f\"Not found the vertex {v}\")\n",
    "        return\n",
    "    print(f\"List of out-edges of node {v}: \");\n",
    "    for index, value in enumerate(self.adjMatrix[v]):\n",
    "        if value != 0:\n",
    "            print(f\"{v} --{value}--> {index}\")\n",
    "        \n",
    "        \n",
    "setattr(Graph, \"print_out_edges\", print_out_edges)"
   ]
  },
  {
   "cell_type": "code",
   "execution_count": 37,
   "id": "6b3bfbad",
   "metadata": {},
   "outputs": [
    {
     "name": "stdout",
     "output_type": "stream",
     "text": [
      "List of out-edges of node 0: \n",
      "0 --0.5--> 2\n",
      "0 --1--> 4\n"
     ]
    }
   ],
   "source": [
    "def main():\n",
    "    g = Graph(5)\n",
    "    g.add_edge(0, 2, 0.5)\n",
    "    g.add_edge(0, 4)\n",
    "    g.add_edge(1, 2, 2.0)\n",
    "    g.add_edge(1, 3)\n",
    "    g.add_edge(2, 0, 0.5)\n",
    "    g.add_edge(2, 3, 3.0)\n",
    "    g.add_edge(3, 4, 2.5)\n",
    "\n",
    "    g.print_out_edges(0)\n",
    "\n",
    "\n",
    "if __name__ == '__main__':\n",
    "    main()"
   ]
  },
  {
   "cell_type": "markdown",
   "id": "2b8a584f",
   "metadata": {},
   "source": [
    "## Create a function to print all in edges of a node"
   ]
  },
  {
   "cell_type": "code",
   "execution_count": 38,
   "id": "2b18277f",
   "metadata": {},
   "outputs": [],
   "source": [
    "def print_in_edges(self, v):\n",
    "    if v > self.size - 1:\n",
    "        print(f\"Not found the vertex {v}\")\n",
    "        return\n",
    "    print(f\"List of in-edges of node {v}: \");\n",
    "    for index, value in enumerate(self.adjMatrix):\n",
    "        if value[v] != 0:\n",
    "            print(f\"{index} --{value[v]}--> {v}\")\n",
    "        \n",
    "        \n",
    "setattr(Graph, \"print_in_edges\", print_in_edges)"
   ]
  },
  {
   "cell_type": "code",
   "execution_count": 39,
   "id": "5e10909f",
   "metadata": {},
   "outputs": [
    {
     "name": "stdout",
     "output_type": "stream",
     "text": [
      "List of in-edges of node 2: \n",
      "0 --0.5--> 2\n",
      "1 --2.0--> 2\n",
      "3 --3.0--> 2\n"
     ]
    }
   ],
   "source": [
    "def main():\n",
    "    g = Graph(5)\n",
    "    g.add_edge(0, 2, 0.5)\n",
    "    g.add_edge(0, 4)\n",
    "    g.add_edge(1, 2, 2.0)\n",
    "    g.add_edge(1, 3)\n",
    "    g.add_edge(2, 0, 0.5)\n",
    "    g.add_edge(2, 3, 3.0)\n",
    "    g.add_edge(3, 4, 2.5)\n",
    "\n",
    "    g.print_in_edges(2)\n",
    "\n",
    "\n",
    "if __name__ == '__main__':\n",
    "    main()"
   ]
  },
  {
   "cell_type": "markdown",
   "id": "66cf118d",
   "metadata": {},
   "source": [
    "## Get weight of an edge"
   ]
  },
  {
   "cell_type": "code",
   "execution_count": 40,
   "id": "7c6e4a57",
   "metadata": {},
   "outputs": [],
   "source": [
    "def get_edge_weight(self, v1, v2):\n",
    "    if v1 > self.size - 1 or v2 > self.size - 1:\n",
    "        print(f\"Not found {v1} or {v2}!\")\n",
    "        return 0\n",
    "    return self.adjMatrix[v1][v2]\n",
    "        \n",
    "        \n",
    "setattr(Graph, \"get_edge_weight\", get_edge_weight)"
   ]
  },
  {
   "cell_type": "code",
   "execution_count": 41,
   "id": "0029494e",
   "metadata": {},
   "outputs": [
    {
     "name": "stdout",
     "output_type": "stream",
     "text": [
      "Weight of an edge 1 -> 2: 2.0\n"
     ]
    }
   ],
   "source": [
    "def main():\n",
    "    g = Graph(5)\n",
    "    g.add_edge(0, 2, 0.5)\n",
    "    g.add_edge(0, 4)\n",
    "    g.add_edge(1, 2, 2.0)\n",
    "    g.add_edge(1, 3)\n",
    "    g.add_edge(2, 0, 0.5)\n",
    "    g.add_edge(2, 3, 3.0)\n",
    "    g.add_edge(3, 4, 2.5)\n",
    "\n",
    "    print(f\"Weight of an edge 1 -> 2: {g.get_edge_weight(1, 2)}\")\n",
    "\n",
    "if __name__ == '__main__':\n",
    "    main()"
   ]
  },
  {
   "cell_type": "markdown",
   "id": "92564236",
   "metadata": {},
   "source": [
    "## Print Adjacency Lists in the graph"
   ]
  },
  {
   "cell_type": "code",
   "execution_count": 42,
   "id": "6e3b9b25",
   "metadata": {},
   "outputs": [],
   "source": [
    "def print_all_edges(self):\n",
    "    print(\"The Adjacency lists: \")\n",
    "    for i, row in enumerate(self.adjMatrix):\n",
    "        print(\"Node (\" + str(i) + \"): \", end=\"\")\n",
    "        for j, value in enumerate(row):\n",
    "            if value != 0:\n",
    "                print(f\" -- {value} --> ({j})\", end=\"\")\n",
    "        print(\"\\n\")\n",
    "        \n",
    "        \n",
    "setattr(Graph, \"print_all_edges\", print_all_edges)"
   ]
  },
  {
   "cell_type": "code",
   "execution_count": 43,
   "id": "f7cd104b",
   "metadata": {
    "scrolled": true
   },
   "outputs": [
    {
     "name": "stdout",
     "output_type": "stream",
     "text": [
      "The Adjacency lists: \n",
      "Node (0):  -- 0.5 --> (2) -- 1 --> (4)\n",
      "\n",
      "Node (1):  -- 2.0 --> (2) -- 1 --> (3)\n",
      "\n",
      "Node (2):  -- 0.5 --> (0) -- 3.0 --> (3)\n",
      "\n",
      "Node (3):  -- 2.5 --> (4)\n",
      "\n",
      "Node (4): \n",
      "\n"
     ]
    }
   ],
   "source": [
    "def main():\n",
    "    g = Graph(5, directed=True)\n",
    "    g.add_edge(0, 2, 0.5)\n",
    "    g.add_edge(0, 4)\n",
    "    g.add_edge(1, 2, 2.0)\n",
    "    g.add_edge(1, 3)\n",
    "    g.add_edge(2, 0, 0.5)\n",
    "    g.add_edge(2, 3, 3.0)\n",
    "    g.add_edge(3, 4, 2.5)\n",
    "\n",
    "    g.print_all_edges()\n",
    "\n",
    "\n",
    "if __name__ == '__main__':\n",
    "    main()"
   ]
  },
  {
   "cell_type": "markdown",
   "id": "dc48149d",
   "metadata": {},
   "source": [
    "## Create Simple Graphs with Adjacency List"
   ]
  },
  {
   "cell_type": "code",
   "execution_count": 44,
   "id": "e437989e",
   "metadata": {},
   "outputs": [],
   "source": [
    "class AdjNode:\n",
    "    def __init__(self, vertex, weight=1):\n",
    "        self.vertex = vertex\n",
    "        self.weight = weight\n",
    "        self.next = None\n",
    "\n",
    "class GraphAdjList:\n",
    "    def __init__(self, num_nodes):\n",
    "        self.V = num_nodes\n",
    "        self.graph = [None] * self.V\n",
    "\n",
    "    # Add edges\n",
    "    def add_edge(self, s, d, weight=1):\n",
    "        node = AdjNode(d, weight)\n",
    "        node.next = self.graph[s]\n",
    "        self.graph[s] = node\n",
    "        \n",
    "        node = AdjNode(s, weight)\n",
    "        node.next = self.graph[d]\n",
    "        self.graph[d] = node\n",
    "\n",
    "    # Print the graph\n",
    "    def print_graph(self):\n",
    "        for i in range(self.V):\n",
    "            print(\"The Adjacency lists: \")\n",
    "            print(\"Node (\" + str(i) + \"): \", end=\"\")\n",
    "            temp = self.graph[i]\n",
    "            while temp:\n",
    "                print(\" -- {} --> ({})\".format(temp.weight, temp.vertex), end=\"\")\n",
    "                temp = temp.next\n",
    "            print(\" \\n\")\n"
   ]
  },
  {
   "cell_type": "code",
   "execution_count": 47,
   "id": "a51c3c0f",
   "metadata": {},
   "outputs": [
    {
     "name": "stdout",
     "output_type": "stream",
     "text": [
      "The Adjacency lists: \n",
      "Node (0):  -- 1 --> (4) -- 0.5 --> (2) \n",
      "\n",
      "The Adjacency lists: \n",
      "Node (1):  -- 1 --> (3) -- 2.0 --> (2) \n",
      "\n",
      "The Adjacency lists: \n",
      "Node (2):  -- 2.0 --> (1) -- 0.5 --> (0) \n",
      "\n",
      "The Adjacency lists: \n",
      "Node (3):  -- 1 --> (1) \n",
      "\n",
      "The Adjacency lists: \n",
      "Node (4):  -- 1 --> (0) \n",
      "\n"
     ]
    }
   ],
   "source": [
    "if __name__ == \"__main__\":\n",
    "    num_nodes = 5\n",
    "\n",
    "    # Create graph and edges\n",
    "    g = GraphAdjList(num_nodes)\n",
    "    g.add_edge(0, 2, 0.5)\n",
    "    g.add_edge(0, 4)\n",
    "    g.add_edge(1, 2, 2.0)\n",
    "    g.add_edge(1, 3)\n",
    "\n",
    "    g.print_graph()"
   ]
  },
  {
   "cell_type": "markdown",
   "id": "e80c1126",
   "metadata": {},
   "source": [
    "# Networkx\n",
    "## Generate the adjency matrix from a graph\n",
    "### Sparse matrix\n"
   ]
  },
  {
   "cell_type": "code",
   "execution_count": 48,
   "id": "de85af4a",
   "metadata": {},
   "outputs": [
    {
     "name": "stdout",
     "output_type": "stream",
     "text": [
      "  (0, 1)\t1\n",
      "  (0, 2)\t1\n",
      "  (0, 3)\t1\n",
      "  (0, 4)\t1\n",
      "  (1, 0)\t1\n",
      "  (1, 3)\t1\n",
      "  (1, 5)\t1\n",
      "  (2, 0)\t1\n",
      "  (3, 0)\t1\n",
      "  (3, 1)\t1\n",
      "  (3, 6)\t1\n",
      "  (4, 0)\t1\n",
      "  (4, 6)\t1\n",
      "  (4, 8)\t1\n",
      "  (5, 1)\t1\n",
      "  (6, 3)\t1\n",
      "  (6, 4)\t1\n",
      "  (6, 7)\t1\n",
      "  (7, 6)\t1\n",
      "  (8, 4)\t1\n",
      "  (8, 9)\t1\n",
      "  (9, 8)\t1\n"
     ]
    }
   ],
   "source": [
    "import networkx as nx\n",
    "import numpy as np\n",
    "import matplotlib.pyplot as plt\n",
    "import pandas as pd\n",
    "\n",
    "# Instantiate the graph\n",
    "G = nx.Graph()\n",
    "# add node/edge pairs\n",
    "G.add_edges_from([(0, 1), (0, 2), (0, 3), (0, 5), (1, 3), (1, 6), (3, 4), (4, 5), (4, 7), (5, 8), (8, 9)])\n",
    "\n",
    "A = nx.adjacency_matrix(G)\n",
    "print(A)\n"
   ]
  },
  {
   "cell_type": "markdown",
   "id": "4304b6eb",
   "metadata": {},
   "source": [
    "### Adjency list"
   ]
  },
  {
   "cell_type": "code",
   "execution_count": 49,
   "id": "c6f999ce",
   "metadata": {},
   "outputs": [
    {
     "name": "stdout",
     "output_type": "stream",
     "text": [
      "0 1 2 3 5\n",
      "1 3 6\n",
      "2\n",
      "3 4\n",
      "5 4 8\n",
      "6\n",
      "4 7\n",
      "7\n",
      "8 9\n",
      "9\n"
     ]
    }
   ],
   "source": [
    "adjency_list = nx.generate_adjlist(G)\n",
    "for line in adjency_list:\n",
    "    print(line)"
   ]
  },
  {
   "cell_type": "markdown",
   "id": "661e16b4",
   "metadata": {},
   "source": [
    "### Dense matrix"
   ]
  },
  {
   "cell_type": "code",
   "execution_count": 50,
   "id": "0203efd0",
   "metadata": {},
   "outputs": [
    {
     "name": "stdout",
     "output_type": "stream",
     "text": [
      "[[0 1 1 1 1 0 0 0 0 0]\n",
      " [1 0 0 1 0 1 0 0 0 0]\n",
      " [1 0 0 0 0 0 0 0 0 0]\n",
      " [1 1 0 0 0 0 1 0 0 0]\n",
      " [1 0 0 0 0 0 1 0 1 0]\n",
      " [0 1 0 0 0 0 0 0 0 0]\n",
      " [0 0 0 1 1 0 0 1 0 0]\n",
      " [0 0 0 0 0 0 1 0 0 0]\n",
      " [0 0 0 0 1 0 0 0 0 1]\n",
      " [0 0 0 0 0 0 0 0 1 0]]\n"
     ]
    },
    {
     "data": {
      "text/html": [
       "<div>\n",
       "<style scoped>\n",
       "    .dataframe tbody tr th:only-of-type {\n",
       "        vertical-align: middle;\n",
       "    }\n",
       "\n",
       "    .dataframe tbody tr th {\n",
       "        vertical-align: top;\n",
       "    }\n",
       "\n",
       "    .dataframe thead th {\n",
       "        text-align: right;\n",
       "    }\n",
       "</style>\n",
       "<table border=\"1\" class=\"dataframe\">\n",
       "  <thead>\n",
       "    <tr style=\"text-align: right;\">\n",
       "      <th></th>\n",
       "      <th>0</th>\n",
       "      <th>1</th>\n",
       "      <th>2</th>\n",
       "      <th>3</th>\n",
       "      <th>5</th>\n",
       "      <th>6</th>\n",
       "      <th>4</th>\n",
       "      <th>7</th>\n",
       "      <th>8</th>\n",
       "      <th>9</th>\n",
       "    </tr>\n",
       "  </thead>\n",
       "  <tbody>\n",
       "    <tr>\n",
       "      <th>0</th>\n",
       "      <td>0.0</td>\n",
       "      <td>1.0</td>\n",
       "      <td>1.0</td>\n",
       "      <td>1.0</td>\n",
       "      <td>1.0</td>\n",
       "      <td>0.0</td>\n",
       "      <td>0.0</td>\n",
       "      <td>0.0</td>\n",
       "      <td>0.0</td>\n",
       "      <td>0.0</td>\n",
       "    </tr>\n",
       "    <tr>\n",
       "      <th>1</th>\n",
       "      <td>1.0</td>\n",
       "      <td>0.0</td>\n",
       "      <td>0.0</td>\n",
       "      <td>1.0</td>\n",
       "      <td>0.0</td>\n",
       "      <td>1.0</td>\n",
       "      <td>0.0</td>\n",
       "      <td>0.0</td>\n",
       "      <td>0.0</td>\n",
       "      <td>0.0</td>\n",
       "    </tr>\n",
       "    <tr>\n",
       "      <th>2</th>\n",
       "      <td>1.0</td>\n",
       "      <td>0.0</td>\n",
       "      <td>0.0</td>\n",
       "      <td>0.0</td>\n",
       "      <td>0.0</td>\n",
       "      <td>0.0</td>\n",
       "      <td>0.0</td>\n",
       "      <td>0.0</td>\n",
       "      <td>0.0</td>\n",
       "      <td>0.0</td>\n",
       "    </tr>\n",
       "    <tr>\n",
       "      <th>3</th>\n",
       "      <td>1.0</td>\n",
       "      <td>1.0</td>\n",
       "      <td>0.0</td>\n",
       "      <td>0.0</td>\n",
       "      <td>0.0</td>\n",
       "      <td>0.0</td>\n",
       "      <td>1.0</td>\n",
       "      <td>0.0</td>\n",
       "      <td>0.0</td>\n",
       "      <td>0.0</td>\n",
       "    </tr>\n",
       "    <tr>\n",
       "      <th>5</th>\n",
       "      <td>1.0</td>\n",
       "      <td>0.0</td>\n",
       "      <td>0.0</td>\n",
       "      <td>0.0</td>\n",
       "      <td>0.0</td>\n",
       "      <td>0.0</td>\n",
       "      <td>1.0</td>\n",
       "      <td>0.0</td>\n",
       "      <td>1.0</td>\n",
       "      <td>0.0</td>\n",
       "    </tr>\n",
       "    <tr>\n",
       "      <th>6</th>\n",
       "      <td>0.0</td>\n",
       "      <td>1.0</td>\n",
       "      <td>0.0</td>\n",
       "      <td>0.0</td>\n",
       "      <td>0.0</td>\n",
       "      <td>0.0</td>\n",
       "      <td>0.0</td>\n",
       "      <td>0.0</td>\n",
       "      <td>0.0</td>\n",
       "      <td>0.0</td>\n",
       "    </tr>\n",
       "    <tr>\n",
       "      <th>4</th>\n",
       "      <td>0.0</td>\n",
       "      <td>0.0</td>\n",
       "      <td>0.0</td>\n",
       "      <td>1.0</td>\n",
       "      <td>1.0</td>\n",
       "      <td>0.0</td>\n",
       "      <td>0.0</td>\n",
       "      <td>1.0</td>\n",
       "      <td>0.0</td>\n",
       "      <td>0.0</td>\n",
       "    </tr>\n",
       "    <tr>\n",
       "      <th>7</th>\n",
       "      <td>0.0</td>\n",
       "      <td>0.0</td>\n",
       "      <td>0.0</td>\n",
       "      <td>0.0</td>\n",
       "      <td>0.0</td>\n",
       "      <td>0.0</td>\n",
       "      <td>1.0</td>\n",
       "      <td>0.0</td>\n",
       "      <td>0.0</td>\n",
       "      <td>0.0</td>\n",
       "    </tr>\n",
       "    <tr>\n",
       "      <th>8</th>\n",
       "      <td>0.0</td>\n",
       "      <td>0.0</td>\n",
       "      <td>0.0</td>\n",
       "      <td>0.0</td>\n",
       "      <td>1.0</td>\n",
       "      <td>0.0</td>\n",
       "      <td>0.0</td>\n",
       "      <td>0.0</td>\n",
       "      <td>0.0</td>\n",
       "      <td>1.0</td>\n",
       "    </tr>\n",
       "    <tr>\n",
       "      <th>9</th>\n",
       "      <td>0.0</td>\n",
       "      <td>0.0</td>\n",
       "      <td>0.0</td>\n",
       "      <td>0.0</td>\n",
       "      <td>0.0</td>\n",
       "      <td>0.0</td>\n",
       "      <td>0.0</td>\n",
       "      <td>0.0</td>\n",
       "      <td>1.0</td>\n",
       "      <td>0.0</td>\n",
       "    </tr>\n",
       "  </tbody>\n",
       "</table>\n",
       "</div>"
      ],
      "text/plain": [
       "     0    1    2    3    5    6    4    7    8    9\n",
       "0  0.0  1.0  1.0  1.0  1.0  0.0  0.0  0.0  0.0  0.0\n",
       "1  1.0  0.0  0.0  1.0  0.0  1.0  0.0  0.0  0.0  0.0\n",
       "2  1.0  0.0  0.0  0.0  0.0  0.0  0.0  0.0  0.0  0.0\n",
       "3  1.0  1.0  0.0  0.0  0.0  0.0  1.0  0.0  0.0  0.0\n",
       "5  1.0  0.0  0.0  0.0  0.0  0.0  1.0  0.0  1.0  0.0\n",
       "6  0.0  1.0  0.0  0.0  0.0  0.0  0.0  0.0  0.0  0.0\n",
       "4  0.0  0.0  0.0  1.0  1.0  0.0  0.0  1.0  0.0  0.0\n",
       "7  0.0  0.0  0.0  0.0  0.0  0.0  1.0  0.0  0.0  0.0\n",
       "8  0.0  0.0  0.0  0.0  1.0  0.0  0.0  0.0  0.0  1.0\n",
       "9  0.0  0.0  0.0  0.0  0.0  0.0  0.0  0.0  1.0  0.0"
      ]
     },
     "execution_count": 50,
     "metadata": {},
     "output_type": "execute_result"
    }
   ],
   "source": [
    "A = nx.adjacency_matrix(G)\n",
    "A_dense = A.todense()\n",
    "print(A_dense)\n",
    "\n",
    "# Pandas format\n",
    "nx.to_pandas_adjacency(G)"
   ]
  },
  {
   "cell_type": "markdown",
   "id": "feabfc96",
   "metadata": {},
   "source": [
    "## Calculate the number of IN-edges, OUT-edges, add edge and remove edge."
   ]
  },
  {
   "cell_type": "code",
   "execution_count": 61,
   "id": "ef2687da",
   "metadata": {},
   "outputs": [
    {
     "name": "stdout",
     "output_type": "stream",
     "text": [
      "OUT-edges of node B: 1\n",
      "IN-edges of node B: 2\n",
      "Check an edge from A to C: False\n",
      "Check an edge from A to C: True\n",
      "Check an edge from A to D: True\n",
      "Check an edge from A to C: False\n",
      "Check an edge from A to D: False\n"
     ]
    }
   ],
   "source": [
    "# Instantiate the graph\n",
    "G = nx.DiGraph()\n",
    "# add node/edge pairs\n",
    "G.add_edges_from([(\"A\", \"B\"), (\"B\", \"A\"), (\"C\", \"B\"), (\"C\", \"D\")])\n",
    "\n",
    "# Get a vertex’s out-edges:\n",
    "print(f\"OUT-edges of node B: {G.out_degree('B')}\")\n",
    "# Get a vertex’s in-edges: \n",
    "print(f\"IN-edges of node B: {G.in_degree('B')}\")\n",
    "# Decide if some edge exists: \n",
    "print(f\"Check an edge from A to C: {G.has_edge('A', 'C')}\")\n",
    "# Insert an edge:\n",
    "G.add_edge(\"A\", \"C\") \n",
    "# OR \n",
    "G.add_edges_from([(\"A\", \"D\")])\n",
    "print(f\"Check an edge from A to C: {G.has_edge('A', 'C')}\")\n",
    "print(f\"Check an edge from A to D: {G.has_edge('A', 'D')}\")\n",
    "# Delete an edge:\n",
    "G.remove_edge(\"A\", \"C\") \n",
    "# OR \n",
    "G.remove_edges_from([(\"A\", \"D\")])\n",
    "print(f\"Check an edge from A to C: {G.has_edge('A', 'C')}\")\n",
    "print(f\"Check an edge from A to D: {G.has_edge('A', 'D')}\")"
   ]
  },
  {
   "cell_type": "code",
   "execution_count": 52,
   "id": "5d704897",
   "metadata": {},
   "outputs": [
    {
     "name": "stdout",
     "output_type": "stream",
     "text": [
      "A B\n",
      "B A\n",
      "C B D\n",
      "D\n"
     ]
    }
   ],
   "source": [
    "# Instantiate the graph\n",
    "G = nx.DiGraph()\n",
    "# add node/edge pairs\n",
    "G.add_edges_from([(\"A\", \"B\"), (\"B\", \"A\"), (\"C\", \"B\"), (\"C\", \"D\")])\n",
    "adjency_list = nx.generate_adjlist(G)\n",
    "for line in adjency_list:\n",
    "    print(line)"
   ]
  },
  {
   "cell_type": "markdown",
   "id": "a099cc8e",
   "metadata": {},
   "source": [
    "## Sparse and dense adjacency matrix of a directed graph"
   ]
  },
  {
   "cell_type": "code",
   "execution_count": 60,
   "id": "ce702469",
   "metadata": {},
   "outputs": [
    {
     "name": "stdout",
     "output_type": "stream",
     "text": [
      "The sparse adjacency matrix: \n",
      "  (0, 1)\t1\n",
      "  (0, 2)\t1\n",
      "  (0, 3)\t1\n",
      "  (0, 4)\t1\n",
      "  (1, 3)\t1\n",
      "  (1, 5)\t1\n",
      "  (3, 6)\t1\n",
      "  (4, 8)\t1\n",
      "  (6, 4)\t1\n",
      "  (6, 7)\t1\n",
      "  (8, 9)\t1\n",
      "The dense adjacency matrix: \n",
      "[[0 1 1 1 1 0 0 0 0 0]\n",
      " [0 0 0 1 0 1 0 0 0 0]\n",
      " [0 0 0 0 0 0 0 0 0 0]\n",
      " [0 0 0 0 0 0 1 0 0 0]\n",
      " [0 0 0 0 0 0 0 0 1 0]\n",
      " [0 0 0 0 0 0 0 0 0 0]\n",
      " [0 0 0 0 1 0 0 1 0 0]\n",
      " [0 0 0 0 0 0 0 0 0 0]\n",
      " [0 0 0 0 0 0 0 0 0 1]\n",
      " [0 0 0 0 0 0 0 0 0 0]]\n"
     ]
    },
    {
     "data": {
      "text/html": [
       "<div>\n",
       "<style scoped>\n",
       "    .dataframe tbody tr th:only-of-type {\n",
       "        vertical-align: middle;\n",
       "    }\n",
       "\n",
       "    .dataframe tbody tr th {\n",
       "        vertical-align: top;\n",
       "    }\n",
       "\n",
       "    .dataframe thead th {\n",
       "        text-align: right;\n",
       "    }\n",
       "</style>\n",
       "<table border=\"1\" class=\"dataframe\">\n",
       "  <thead>\n",
       "    <tr style=\"text-align: right;\">\n",
       "      <th></th>\n",
       "      <th>0</th>\n",
       "      <th>1</th>\n",
       "      <th>2</th>\n",
       "      <th>3</th>\n",
       "      <th>5</th>\n",
       "      <th>6</th>\n",
       "      <th>4</th>\n",
       "      <th>7</th>\n",
       "      <th>8</th>\n",
       "      <th>9</th>\n",
       "    </tr>\n",
       "  </thead>\n",
       "  <tbody>\n",
       "    <tr>\n",
       "      <th>0</th>\n",
       "      <td>0.0</td>\n",
       "      <td>1.0</td>\n",
       "      <td>1.0</td>\n",
       "      <td>1.0</td>\n",
       "      <td>1.0</td>\n",
       "      <td>0.0</td>\n",
       "      <td>0.0</td>\n",
       "      <td>0.0</td>\n",
       "      <td>0.0</td>\n",
       "      <td>0.0</td>\n",
       "    </tr>\n",
       "    <tr>\n",
       "      <th>1</th>\n",
       "      <td>0.0</td>\n",
       "      <td>0.0</td>\n",
       "      <td>0.0</td>\n",
       "      <td>1.0</td>\n",
       "      <td>0.0</td>\n",
       "      <td>1.0</td>\n",
       "      <td>0.0</td>\n",
       "      <td>0.0</td>\n",
       "      <td>0.0</td>\n",
       "      <td>0.0</td>\n",
       "    </tr>\n",
       "    <tr>\n",
       "      <th>2</th>\n",
       "      <td>0.0</td>\n",
       "      <td>0.0</td>\n",
       "      <td>0.0</td>\n",
       "      <td>0.0</td>\n",
       "      <td>0.0</td>\n",
       "      <td>0.0</td>\n",
       "      <td>0.0</td>\n",
       "      <td>0.0</td>\n",
       "      <td>0.0</td>\n",
       "      <td>0.0</td>\n",
       "    </tr>\n",
       "    <tr>\n",
       "      <th>3</th>\n",
       "      <td>0.0</td>\n",
       "      <td>0.0</td>\n",
       "      <td>0.0</td>\n",
       "      <td>0.0</td>\n",
       "      <td>0.0</td>\n",
       "      <td>0.0</td>\n",
       "      <td>1.0</td>\n",
       "      <td>0.0</td>\n",
       "      <td>0.0</td>\n",
       "      <td>0.0</td>\n",
       "    </tr>\n",
       "    <tr>\n",
       "      <th>5</th>\n",
       "      <td>0.0</td>\n",
       "      <td>0.0</td>\n",
       "      <td>0.0</td>\n",
       "      <td>0.0</td>\n",
       "      <td>0.0</td>\n",
       "      <td>0.0</td>\n",
       "      <td>0.0</td>\n",
       "      <td>0.0</td>\n",
       "      <td>1.0</td>\n",
       "      <td>0.0</td>\n",
       "    </tr>\n",
       "    <tr>\n",
       "      <th>6</th>\n",
       "      <td>0.0</td>\n",
       "      <td>0.0</td>\n",
       "      <td>0.0</td>\n",
       "      <td>0.0</td>\n",
       "      <td>0.0</td>\n",
       "      <td>0.0</td>\n",
       "      <td>0.0</td>\n",
       "      <td>0.0</td>\n",
       "      <td>0.0</td>\n",
       "      <td>0.0</td>\n",
       "    </tr>\n",
       "    <tr>\n",
       "      <th>4</th>\n",
       "      <td>0.0</td>\n",
       "      <td>0.0</td>\n",
       "      <td>0.0</td>\n",
       "      <td>0.0</td>\n",
       "      <td>1.0</td>\n",
       "      <td>0.0</td>\n",
       "      <td>0.0</td>\n",
       "      <td>1.0</td>\n",
       "      <td>0.0</td>\n",
       "      <td>0.0</td>\n",
       "    </tr>\n",
       "    <tr>\n",
       "      <th>7</th>\n",
       "      <td>0.0</td>\n",
       "      <td>0.0</td>\n",
       "      <td>0.0</td>\n",
       "      <td>0.0</td>\n",
       "      <td>0.0</td>\n",
       "      <td>0.0</td>\n",
       "      <td>0.0</td>\n",
       "      <td>0.0</td>\n",
       "      <td>0.0</td>\n",
       "      <td>0.0</td>\n",
       "    </tr>\n",
       "    <tr>\n",
       "      <th>8</th>\n",
       "      <td>0.0</td>\n",
       "      <td>0.0</td>\n",
       "      <td>0.0</td>\n",
       "      <td>0.0</td>\n",
       "      <td>0.0</td>\n",
       "      <td>0.0</td>\n",
       "      <td>0.0</td>\n",
       "      <td>0.0</td>\n",
       "      <td>0.0</td>\n",
       "      <td>1.0</td>\n",
       "    </tr>\n",
       "    <tr>\n",
       "      <th>9</th>\n",
       "      <td>0.0</td>\n",
       "      <td>0.0</td>\n",
       "      <td>0.0</td>\n",
       "      <td>0.0</td>\n",
       "      <td>0.0</td>\n",
       "      <td>0.0</td>\n",
       "      <td>0.0</td>\n",
       "      <td>0.0</td>\n",
       "      <td>0.0</td>\n",
       "      <td>0.0</td>\n",
       "    </tr>\n",
       "  </tbody>\n",
       "</table>\n",
       "</div>"
      ],
      "text/plain": [
       "     0    1    2    3    5    6    4    7    8    9\n",
       "0  0.0  1.0  1.0  1.0  1.0  0.0  0.0  0.0  0.0  0.0\n",
       "1  0.0  0.0  0.0  1.0  0.0  1.0  0.0  0.0  0.0  0.0\n",
       "2  0.0  0.0  0.0  0.0  0.0  0.0  0.0  0.0  0.0  0.0\n",
       "3  0.0  0.0  0.0  0.0  0.0  0.0  1.0  0.0  0.0  0.0\n",
       "5  0.0  0.0  0.0  0.0  0.0  0.0  0.0  0.0  1.0  0.0\n",
       "6  0.0  0.0  0.0  0.0  0.0  0.0  0.0  0.0  0.0  0.0\n",
       "4  0.0  0.0  0.0  0.0  1.0  0.0  0.0  1.0  0.0  0.0\n",
       "7  0.0  0.0  0.0  0.0  0.0  0.0  0.0  0.0  0.0  0.0\n",
       "8  0.0  0.0  0.0  0.0  0.0  0.0  0.0  0.0  0.0  1.0\n",
       "9  0.0  0.0  0.0  0.0  0.0  0.0  0.0  0.0  0.0  0.0"
      ]
     },
     "execution_count": 60,
     "metadata": {},
     "output_type": "execute_result"
    }
   ],
   "source": [
    "# Instantiate the graph\n",
    "G = nx.DiGraph()\n",
    "# add node/edge pairs\n",
    "G.add_edges_from([(0, 1), (0, 2), (0, 3), (0, 5), (1, 3), (1, 6), (3, 4), (4, 5), (4, 7), (5, 8), (8, 9)])\n",
    "\n",
    "\n",
    "A = nx.adjacency_matrix(G)\n",
    "print(\"The sparse adjacency matrix: \")\n",
    "print(A)\n",
    "\n",
    "print(\"The dense adjacency matrix: \")\n",
    "A_dense = A.todense()\n",
    "print(A_dense)\n",
    "\n",
    "# Pandas format\n",
    "nx.to_pandas_adjacency(G)"
   ]
  }
 ],
 "metadata": {
  "kernelspec": {
   "display_name": "Python 3 (ipykernel)",
   "language": "python",
   "name": "python3"
  },
  "language_info": {
   "codemirror_mode": {
    "name": "ipython",
    "version": 3
   },
   "file_extension": ".py",
   "mimetype": "text/x-python",
   "name": "python",
   "nbconvert_exporter": "python",
   "pygments_lexer": "ipython3",
   "version": "3.7.15"
  }
 },
 "nbformat": 4,
 "nbformat_minor": 5
}
